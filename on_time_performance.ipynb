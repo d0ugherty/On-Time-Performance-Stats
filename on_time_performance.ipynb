{
 "cells": [
  {
   "attachments": {},
   "cell_type": "markdown",
   "metadata": {},
   "source": [
    "Thomas Dougherty\n",
    "\n",
    "Probability and Statistics for Computer Science\n",
    "\n",
    "\n",
    "### Analysis of the On-Time Performance (OTP) of New Jersey Transit Commuter Rail<br>\n",
    "On-time performance refers to the level of success of a service adhering to its schedule. In this example I'll be exploring NJT commuter rail from March 2018 to March 2020. On-time performance data can be used for schedule planning, passenger information systems, and comparison to weather data. \n",
    "    "
   ]
  },
  {
   "cell_type": "code",
   "execution_count": null,
   "metadata": {},
   "outputs": [],
   "source": [
    "\n",
    "import numpy as np\n",
    "import seaborn as sns\n",
    "import pandas as pd\n",
    "import matplotlib as mpl\n",
    "import matplotlib.pyplot as plt\n",
    "import statistics\n",
    "import random\n",
    "import scipy.stats as stats\n",
    "from csv_funct import *\n",
    "from helper_functions import *\n",
    "from math import floor, ceil\n",
    "\n"
   ]
  },
  {
   "attachments": {},
   "cell_type": "markdown",
   "metadata": {},
   "source": [
    "#### Data cleanup"
   ]
  },
  {
   "cell_type": "code",
   "execution_count": null,
   "metadata": {},
   "outputs": [],
   "source": [
    "#all_services = csv.combine_csvs(r\"data/services/\")\n",
    "print(\"Reading CSV....\")\n",
    "all_services = pd.read_csv(r\"data/all_services.csv\")\n",
    "all_services = csv.format_services(all_services)\n",
    "weather = pd.read_csv(r\"data/weather.csv\")\n",
    "weather = csv.format_weather(weather)\n",
    "all_services"
   ]
  },
  {
   "attachments": {},
   "cell_type": "markdown",
   "metadata": {},
   "source": [
    "## Visualization of On Time Performance"
   ]
  },
  {
   "attachments": {},
   "cell_type": "markdown",
   "metadata": {},
   "source": [
    "#### All Services by Season\n",
    "\n",
    "Using the date column, arrivals will be divided into four primary categories. The arrivals will be sub-categorized by how many minutes late then plotted onto a pie chart to show on time performance in the seasons of the year. <br>\n",
    "Pie charts will be used to show the breakdown of how late trains are relative to all trains in the given time periods."
   ]
  },
  {
   "cell_type": "code",
   "execution_count": null,
   "metadata": {},
   "outputs": [],
   "source": [
    "late_labels = ['On Time', '6-10 Minutes Late', '10-15 Minutes Late', 'More Than 15 Minutes Late']\n",
    "late_colors = ['green', 'yellow', 'orange', 'red']\n",
    "\n",
    "data_fall = helper.count_lateness(all_services[(all_services['date'].dt.month >= 9) & (all_services['date'].dt.month <= 12)])\n",
    "# could not get a 'true' boolean value for the winter months and had to broken up into two separate dfs\n",
    "df1 = all_services[(all_services['date'].dt.month <= 3)]\n",
    "df2 = all_services[(all_services['date'].dt.month >= 12)]\n",
    "result = pd.concat([df1,df2])\n",
    "data_winter = helper.count_lateness(result) \n",
    "data_spring = helper.count_lateness(all_services[(all_services['date'].dt.month >= 3) & (all_services['date'].dt.month <=6)])\n",
    "data_summer = helper.count_lateness(all_services[(all_services['date'].dt.month >= 6) & (all_services['date'].dt.month <=9)])\n",
    "\n",
    "\n",
    "fig, (ax1, ax2, ax3, ax4) = plt.subplots(1,4)\n",
    "\n",
    "ax1.pie(data_fall, colors=late_colors, radius = 1.2, autopct = \"%0.2f%%\", startangle=270)\n",
    "ax1.title.set_text('September - December')\n",
    "ax2.pie(data_winter, colors=late_colors, radius = 1.2, autopct = \"%0.2f%%\", startangle=270)\n",
    "ax2.title.set_text('December - March')\n",
    "ax3.pie(data_spring, colors=late_colors, radius = 1.2, autopct = \"%0.2f%%\", startangle=270)\n",
    "ax3.title.set_text('March - June')\n",
    "ax4.pie(data_summer, colors=late_colors, radius = 1.2, autopct = \"%0.2f%%\", startangle=270)\n",
    "ax4.title.set_text('June - September')\n",
    "\n",
    "fig.set_figwidth(15)\n",
    "fig.set_figheight(5)\n",
    "\n",
    "plt.legend(bbox_to_anchor = (1.0, 1.0), labels = late_labels)\n",
    "plt.show()"
   ]
  },
  {
   "attachments": {},
   "cell_type": "markdown",
   "metadata": {},
   "source": [
    "In Autumn, tree leaves tend to fall on the rails. As they're crushed by the weight of the trains, the wheels of the train and the rails they ride on become coated in a low-friction residue. The buildup is incremental with each passing train. So unlike snow, the buildup cannot be prevented by the regular running of trains. These condition makes it difficult for trains to accelerate, decelerate, and maintain safe speeds leading to delays and other service disruptions so we can expect a lower On Time Performance during the autumn months. "
   ]
  },
  {
   "attachments": {},
   "cell_type": "markdown",
   "metadata": {},
   "source": [
    "### Reporting to Final Destination On Time: New York Penn Station vs Hoboken Terminal<br>\n",
    "New York Penn and Hoboken Terminal are two major termini for New Jersey Transit. However, New York Penn is the busiest transportation facility in the western hemisphere serving both commuter and intercity trains whereas Hoboken terminal serves exclusively commuter rail. The North River Tunnels that connect to NYP are aging pieces of infrastructure as well. Built over a century ago, the tunnels under the Hudson River have been experienced flooding, electrical problems, and other issues. The tunnels are operating at capacity and frequently result in congestion and delays.<br>\n",
    "\n",
    "For easy comparison, bar charts will be used to visualize the OTP of both stations at different peak times. The values between Hoboken and New York Penn are close, so to highlight the difference the limit of the Y-axis has been set to 25 <br>\n"
   ]
  },
  {
   "cell_type": "code",
   "execution_count": null,
   "metadata": {},
   "outputs": [],
   "source": [
    "categories = ['AM Peak', 'PM Peak', 'Off Peak', 'Weekday', 'Weekend']\n",
    "\n",
    "nyp_otps = helper.otp_for_destination(all_services,'New York Penn Station')\n",
    "\n",
    "hob_otps = helper.otp_for_destination(all_services,'Hoboken')\n",
    "\n",
    "bar_width = 0.35\n",
    "index = np.arange(5)\n",
    "fig, ax = plt.subplots(figsize=(12,6))\n",
    "nyp = ax.bar(index,nyp_otps, bar_width, label='New York Penn Station', color='teal',zorder=3)\n",
    "hob = ax.bar(index+bar_width, hob_otps,bar_width, label='Hoboken Terminal', color='mediumseagreen',zorder=3)\n",
    "\n",
    "ax.set_ylabel('On Time Percentage')\n",
    "ax.set_ylim(25,100)\n",
    "ax.set_xlabel('Time Interval')\n",
    "ax.set_xticks(index+bar_width / 2)\n",
    "ax.set_xticklabels(categories)\n",
    "ax.set_facecolor('lightgray')\n",
    "ax.spines['top'].set_color('white')\n",
    "ax.spines['right'].set_color('white')\n",
    "\n",
    "ax.legend()\n",
    "\n",
    "for i, bar in enumerate(nyp + hob):\n",
    "    height = bar.get_height()\n",
    "    ax.text(bar.get_x() + bar.get_width()/2.0, height, f'{height:.2f}%', ha='center', va='bottom')\n",
    "\n",
    "ax.grid(axis='y', linestyle='-', alpha=0.7,color='black',zorder=1)\n",
    "\n",
    "plt.show()"
   ]
  },
  {
   "attachments": {},
   "cell_type": "markdown",
   "metadata": {},
   "source": [
    "## Distribution"
   ]
  },
  {
   "cell_type": "code",
   "execution_count": null,
   "metadata": {},
   "outputs": [],
   "source": [
    "nyp_services = all_services[(all_services['to'] == 'New York Penn Station')]\n",
    "late_mins = nyp_services[(nyp_services['delay_minutes'] > 6.0) & (nyp_services['delay_minutes'] < 10.0)]['delay_minutes'].to_list()\n",
    "#late_mins = nyp_services['delay_minutes'].to_list()\n",
    "data = late_mins\n",
    "#data = random.sample(late_mins)\n",
    "#fig = plt.figure(figsize=(20, 2))\n",
    "#plt.hist(data, bins = 250)\n",
    "#plt.title('Distribution of Late Arrivals')\n",
    "#plt.xlabel('Minutes Late')\n",
    "#plt.ylabel('Frequency')\n",
    "plt.show()"
   ]
  },
  {
   "attachments": {},
   "cell_type": "markdown",
   "metadata": {},
   "source": [
    "## Standard Deviation <br>\n",
    "An error bar chart will be plotted to show the standard deviation over time. This can be useful for identifying trends and sources of error. If standard deviation is going up over time, then service is more consistent and reliable. If it is going down, service is getting less consistent. <br>\n",
    "\n",
    "At any given point, low standard deviation indicates that a rail service is consistent in achieving its scheduled arrival times. A higher standard deviation of on-time performance can be interpreted as less reilable or consistent service. It can also indicate inefficient routing of trains or an un-optimized train schedule. <br>\n"
   ]
  },
  {
   "cell_type": "code",
   "execution_count": null,
   "metadata": {},
   "outputs": [],
   "source": [
    "\n",
    "all_services['date'] = pd.to_datetime(all_services['date'])\n",
    "all_services['year'] = all_services['date'].dt.year\n",
    "all_services['month'] = all_services['date'].dt.month\n",
    "\n",
    "## TO DO: look into data accuracy. This seems to be averaging together the OTPs of the peak intervals\n",
    "otps_by_month_year_ny = all_services.groupby(['year', 'month']).apply(lambda x: np.mean(helper.otp_for_destination(x, 'New York Penn Station')))\n",
    "std_devs_by_month_year_ny = all_services.groupby(['year', 'month']).apply(lambda x: helper.calculate_std_dev(helper.otp_for_destination(x, 'New York Penn Station')))\n",
    "otps_by_month_year_hoboken = all_services.groupby(['year', 'month']).apply(lambda x: np.mean(helper.otp_for_destination(x, 'Hoboken')))\n",
    "std_devs_by_month_year_hoboken = all_services.groupby(['year', 'month']).apply(lambda x: helper.calculate_std_dev(helper.otp_for_destination(x, 'Hoboken')))\n",
    "\n",
    "x_labels = [f\"{month}-{year}\" for year, month in otps_by_month_year_ny.index]\n",
    "xpos = np.arange(len(otps_by_month_year_ny))\n",
    "\n",
    "fig, (ax1, ax2) = plt.subplots(2, 1, figsize=(20, 10), sharex=True)\n",
    "\n",
    "# Plot New York Penn data\n",
    "ax1.bar(xpos, otps_by_month_year_ny, color='teal', zorder=0)\n",
    "ax1.errorbar(xpos, otps_by_month_year_ny, yerr=std_devs_by_month_year_ny, fmt='o', color='black', zorder=0, capsize=5)\n",
    "for i, (mean, std_dev) in enumerate(zip(otps_by_month_year_ny, std_devs_by_month_year_ny)):\n",
    "    ax1.text(i, mean + std_dev + 1, round(std_dev, 2), horizontalalignment='center')\n",
    "slope, intercept = np.polyfit(xpos, otps_by_month_year_ny, 1)\n",
    "ax1.plot(xpos, slope*xpos + intercept, color='red', linestyle='--')\n",
    "ax1.set_ylabel('On-Time Performance')\n",
    "ax1.set_ylim([30, 100])\n",
    "ax1.set_title('On-Time Performance: New York Penn - Standard Deviation')\n",
    "\n",
    "# Plot Hoboken data\n",
    "ax2.bar(xpos, otps_by_month_year_hoboken, color='mediumseagreen', zorder=0)\n",
    "ax2.errorbar(xpos, otps_by_month_year_hoboken, yerr=std_devs_by_month_year_hoboken, fmt='o', color='black', zorder=0,capsize=5)\n",
    "for i, (mean, std_dev) in enumerate(zip(otps_by_month_year_hoboken, std_devs_by_month_year_hoboken)):\n",
    "    ax2.text(i, mean + std_dev + 1, round(std_dev, 2), horizontalalignment='center')\n",
    "slope, intercept = np.polyfit(xpos, otps_by_month_year_hoboken, 1)\n",
    "ax2.plot(xpos, slope*xpos + intercept, color='red', linestyle='--')\n",
    "ax2.set_xlabel('Month-Year')\n",
    "ax2.set_ylabel('On-Time Performance')\n",
    "ax2.set_ylim([30, 100])\n",
    "ax2.set_title('On-Time Performance: Hoboken - Standard Deviation')\n",
    "\n",
    "plt.xticks(xpos, x_labels, rotation=90)\n",
    "plt.show()\n"
   ]
  },
  {
   "attachments": {},
   "cell_type": "markdown",
   "metadata": {},
   "source": [
    "## Use With Weather Data "
   ]
  },
  {
   "attachments": {},
   "cell_type": "markdown",
   "metadata": {},
   "source": [
    "Probability of Being Late During Inclement Weather"
   ]
  },
  {
   "cell_type": "code",
   "execution_count": null,
   "metadata": {},
   "outputs": [],
   "source": [
    "rainy_days = weather[(weather['PRCP'] > 0.0)]\n",
    "## Merge CSVs\n",
    "merged_data = pd.merge(all_services[(all_services['to'] == 'New York Penn Station') ^ (all_services['to'] == 'Hoboken')],weather, on=['date'])\n",
    "merged_data['rain/snow'] = (merged_data['PRCP'] > 0) # create boolean value \n",
    "\n",
    "total_srvcs = len(merged_data)\n",
    "prcp_srvcs = len(merged_data[merged_data['rain/snow']])\n",
    "late_srvcs = len(merged_data[merged_data['delay_minutes'] >= 6.0])\n",
    "probability_of_late = len(merged_data[(merged_data['delay_minutes'] >= 6) & (merged_data['rain/snow'])]) / prcp_srvcs\n",
    "\n",
    "print('Total number of trains:', total_srvcs)\n",
    "print('Total number of trains running on rainy days:', prcp_srvcs)\n",
    "print('Total number of late trains:', late_srvcs)\n",
    "print('Probability of late trains given rain:', probability_of_late)"
   ]
  },
  {
   "cell_type": "code",
   "execution_count": null,
   "metadata": {},
   "outputs": [],
   "source": [
    "services2018 = all_services[(all_services['date'].dt.year == 2018)]\n",
    "merged_data_18 = pd.merge(services2018,weather, on=['date'])\n",
    "\n",
    "x = merged_data_18['delay_minutes'].to_list()\n",
    "y = merged_data_18['PRCP'].to_list()\n",
    "\n",
    "x = random.sample(x, 1000)\n",
    "y = random.sample(y, 1000)\n",
    "\n",
    "plt.scatter(x,y)\n",
    "plt.xlabel('Minutes Delayed')\n",
    "plt.ylabel('Precipitation')\n",
    "plt.show()"
   ]
  },
  {
   "attachments": {},
   "cell_type": "markdown",
   "metadata": {},
   "source": [
    "#### Density Functions<br>\n",
    "Delay minutes are measured in seconds and stored as float64 values so we'll be using continuous distribution functions.<br>\n",
    "\n",
    "Probability Density Function can be used to calculate the likelihood of an observed value in a distribution.<br>\n",
    "\n",
    "Cumulative Density Funtion calculates the cumulative liklihood of an observed value "
   ]
  },
  {
   "cell_type": "code",
   "execution_count": null,
   "metadata": {},
   "outputs": [],
   "source": [
    "# NEW YORK PENN\n",
    "helper.print_prob_cdf(all_services, 'New York Penn Station')\n",
    "trains_to_nyp = all_services[(all_services['to'] == 'New York Penn Station')]\n",
    "delay_minutes = trains_to_nyp['delay_minutes']\n",
    "\n",
    "### Draw random sample\n",
    "mu = np.mean(delay_minutes)\n",
    "sigma = statistics.stdev(delay_minutes)\n",
    "data = np.random.normal(loc=mu, scale=sigma, size=1000)\n",
    "data.sort()\n",
    "delay_minutes = np.array(delay_minutes)\n",
    "min_val = floor(min(delay_minutes))\n",
    "max_val = ceil(max(delay_minutes))\n",
    "### Plot\n",
    "fig = plt.gcf()\n",
    "\n",
    "plt.subplot(1,1,1)\n",
    "x = np.arange(min_val, max_val)\n",
    "\n",
    "pdf = stats.norm.pdf(x, loc=mu, scale=sigma)\n",
    "plt.plot(x, pdf, label='$\\mu = {mu}, $\\sigma={sigma}')\n",
    "plt.title('PDF of Normal Distributions')\n",
    "plt.legend(loc='upper left')\n",
    "plt.xlabel('X-value')\n",
    "plt.ylabel('Probability Density')\n",
    "plt.xlim([min_val, max_val])\n",
    "plt.grid()\n",
    "plt.show()\n",
    "\n",
    "plt.plot()\n",
    "print(x)\n",
    "# HOBOKEN TERMINAL\n",
    "helper.print_prob_cdf(all_services, 'Hoboken')\n"
   ]
  }
 ],
 "metadata": {
  "kernelspec": {
   "display_name": "Python 3",
   "language": "python",
   "name": "python3"
  },
  "language_info": {
   "codemirror_mode": {
    "name": "ipython",
    "version": 3
   },
   "file_extension": ".py",
   "mimetype": "text/x-python",
   "name": "python",
   "nbconvert_exporter": "python",
   "pygments_lexer": "ipython3",
   "version": "3.10.9"
  },
  "orig_nbformat": 4,
  "vscode": {
   "interpreter": {
    "hash": "250b70949b6eb4b48e36940509b8103844f201ae3647754aee77af257d58d6ce"
   }
  }
 },
 "nbformat": 4,
 "nbformat_minor": 2
}
