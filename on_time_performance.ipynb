{
 "cells": [
  {
   "attachments": {},
   "cell_type": "markdown",
   "metadata": {},
   "source": [
    "Thomas Dougherty\n",
    "\n",
    "Probability and Statistics for Computer Science\n",
    "\n",
    "\n",
    "### Analysis of the On-Time Performance (OTP) of New Jersey Transit Commuter Rail<br>\n",
    "On-time performance refers to the level of success of a service adhering to its schedule. In this example I'll be exploring NJT commuter rail from March 2018 to March 2020. On-time performance data can be used for schedule planning, passenger information systems, and comparison to weather data. \n",
    "    "
   ]
  },
  {
   "attachments": {},
   "cell_type": "markdown",
   "metadata": {},
   "source": [
    "#### Data cleanup"
   ]
  },
  {
   "cell_type": "code",
   "execution_count": 1,
   "metadata": {},
   "outputs": [
    {
     "name": "stdout",
     "output_type": "stream",
     "text": [
      "Reading CSV....\n",
      "Dropping columns...\n"
     ]
    },
    {
     "ename": "KeyError",
     "evalue": "'type'",
     "output_type": "error",
     "traceback": [
      "\u001b[0;31m---------------------------------------------------------------------------\u001b[0m",
      "\u001b[0;31mKeyError\u001b[0m                                  Traceback (most recent call last)",
      "File \u001b[0;32m~/anaconda3/lib/python3.10/site-packages/pandas/core/indexes/base.py:3802\u001b[0m, in \u001b[0;36mIndex.get_loc\u001b[0;34m(self, key, method, tolerance)\u001b[0m\n\u001b[1;32m   3801\u001b[0m \u001b[39mtry\u001b[39;00m:\n\u001b[0;32m-> 3802\u001b[0m     \u001b[39mreturn\u001b[39;00m \u001b[39mself\u001b[39;49m\u001b[39m.\u001b[39;49m_engine\u001b[39m.\u001b[39;49mget_loc(casted_key)\n\u001b[1;32m   3803\u001b[0m \u001b[39mexcept\u001b[39;00m \u001b[39mKeyError\u001b[39;00m \u001b[39mas\u001b[39;00m err:\n",
      "File \u001b[0;32m~/anaconda3/lib/python3.10/site-packages/pandas/_libs/index.pyx:138\u001b[0m, in \u001b[0;36mpandas._libs.index.IndexEngine.get_loc\u001b[0;34m()\u001b[0m\n",
      "File \u001b[0;32m~/anaconda3/lib/python3.10/site-packages/pandas/_libs/index.pyx:165\u001b[0m, in \u001b[0;36mpandas._libs.index.IndexEngine.get_loc\u001b[0;34m()\u001b[0m\n",
      "File \u001b[0;32mpandas/_libs/hashtable_class_helper.pxi:5745\u001b[0m, in \u001b[0;36mpandas._libs.hashtable.PyObjectHashTable.get_item\u001b[0;34m()\u001b[0m\n",
      "File \u001b[0;32mpandas/_libs/hashtable_class_helper.pxi:5753\u001b[0m, in \u001b[0;36mpandas._libs.hashtable.PyObjectHashTable.get_item\u001b[0;34m()\u001b[0m\n",
      "\u001b[0;31mKeyError\u001b[0m: 'type'",
      "\nThe above exception was the direct cause of the following exception:\n",
      "\u001b[0;31mKeyError\u001b[0m                                  Traceback (most recent call last)",
      "Cell \u001b[0;32mIn[1], line 15\u001b[0m\n\u001b[1;32m     13\u001b[0m \u001b[39mprint\u001b[39m(\u001b[39m\"\u001b[39m\u001b[39mReading CSV....\u001b[39m\u001b[39m\"\u001b[39m)\n\u001b[1;32m     14\u001b[0m all_services \u001b[39m=\u001b[39m pd\u001b[39m.\u001b[39mread_csv(\u001b[39mr\u001b[39m\u001b[39m\"\u001b[39m\u001b[39mdata/all_services.csv\u001b[39m\u001b[39m\"\u001b[39m)\n\u001b[0;32m---> 15\u001b[0m all_services \u001b[39m=\u001b[39m helper\u001b[39m.\u001b[39;49mformat_services(all_services)\n\u001b[1;32m     16\u001b[0m all_services\n",
      "File \u001b[0;32m~/Repos/PS4CS_project/On-Time-Performance-Stats/helper_functions.py:77\u001b[0m, in \u001b[0;36mhelper.format_services\u001b[0;34m(current_df)\u001b[0m\n\u001b[1;32m     75\u001b[0m     current_df\u001b[39m.\u001b[39mdrop(labels\u001b[39m=\u001b[39m[\u001b[39m'\u001b[39m\u001b[39mstatus\u001b[39m\u001b[39m'\u001b[39m], axis\u001b[39m=\u001b[39m\u001b[39m1\u001b[39m, inplace\u001b[39m=\u001b[39m\u001b[39mTrue\u001b[39;00m)\n\u001b[1;32m     76\u001b[0m current_df\u001b[39m.\u001b[39mdrop(current_df[current_df[\u001b[39m'\u001b[39m\u001b[39mline\u001b[39m\u001b[39m'\u001b[39m] \u001b[39m==\u001b[39m \u001b[39m'\u001b[39m\u001b[39mMeadowlands Rail\u001b[39m\u001b[39m'\u001b[39m]\u001b[39m.\u001b[39mindex, inplace\u001b[39m=\u001b[39m\u001b[39mTrue\u001b[39;00m)\n\u001b[0;32m---> 77\u001b[0m current_df\u001b[39m.\u001b[39mdrop(current_df[current_df[\u001b[39m'\u001b[39;49m\u001b[39mtype\u001b[39;49m\u001b[39m'\u001b[39;49m] \u001b[39m==\u001b[39m \u001b[39m'\u001b[39m\u001b[39mAmtrak\u001b[39m\u001b[39m'\u001b[39m]\u001b[39m.\u001b[39mindex, inplace\u001b[39m=\u001b[39m\u001b[39mTrue\u001b[39;00m)\n\u001b[1;32m     78\u001b[0m current_df\u001b[39m.\u001b[39mdrop(labels\u001b[39m=\u001b[39m[\u001b[39m'\u001b[39m\u001b[39mstop_sequence\u001b[39m\u001b[39m'\u001b[39m, \u001b[39m'\u001b[39m\u001b[39mfrom_id\u001b[39m\u001b[39m'\u001b[39m, \u001b[39m'\u001b[39m\u001b[39mto_id\u001b[39m\u001b[39m'\u001b[39m], axis\u001b[39m=\u001b[39m\u001b[39m1\u001b[39m, inplace\u001b[39m=\u001b[39m\u001b[39mTrue\u001b[39;00m)\n\u001b[1;32m     79\u001b[0m \u001b[39mprint\u001b[39m(\u001b[39m\"\u001b[39m\u001b[39mChanging datatypes...\u001b[39m\u001b[39m\"\u001b[39m)\n",
      "File \u001b[0;32m~/anaconda3/lib/python3.10/site-packages/pandas/core/frame.py:3807\u001b[0m, in \u001b[0;36mDataFrame.__getitem__\u001b[0;34m(self, key)\u001b[0m\n\u001b[1;32m   3805\u001b[0m \u001b[39mif\u001b[39;00m \u001b[39mself\u001b[39m\u001b[39m.\u001b[39mcolumns\u001b[39m.\u001b[39mnlevels \u001b[39m>\u001b[39m \u001b[39m1\u001b[39m:\n\u001b[1;32m   3806\u001b[0m     \u001b[39mreturn\u001b[39;00m \u001b[39mself\u001b[39m\u001b[39m.\u001b[39m_getitem_multilevel(key)\n\u001b[0;32m-> 3807\u001b[0m indexer \u001b[39m=\u001b[39m \u001b[39mself\u001b[39;49m\u001b[39m.\u001b[39;49mcolumns\u001b[39m.\u001b[39;49mget_loc(key)\n\u001b[1;32m   3808\u001b[0m \u001b[39mif\u001b[39;00m is_integer(indexer):\n\u001b[1;32m   3809\u001b[0m     indexer \u001b[39m=\u001b[39m [indexer]\n",
      "File \u001b[0;32m~/anaconda3/lib/python3.10/site-packages/pandas/core/indexes/base.py:3804\u001b[0m, in \u001b[0;36mIndex.get_loc\u001b[0;34m(self, key, method, tolerance)\u001b[0m\n\u001b[1;32m   3802\u001b[0m     \u001b[39mreturn\u001b[39;00m \u001b[39mself\u001b[39m\u001b[39m.\u001b[39m_engine\u001b[39m.\u001b[39mget_loc(casted_key)\n\u001b[1;32m   3803\u001b[0m \u001b[39mexcept\u001b[39;00m \u001b[39mKeyError\u001b[39;00m \u001b[39mas\u001b[39;00m err:\n\u001b[0;32m-> 3804\u001b[0m     \u001b[39mraise\u001b[39;00m \u001b[39mKeyError\u001b[39;00m(key) \u001b[39mfrom\u001b[39;00m \u001b[39merr\u001b[39;00m\n\u001b[1;32m   3805\u001b[0m \u001b[39mexcept\u001b[39;00m \u001b[39mTypeError\u001b[39;00m:\n\u001b[1;32m   3806\u001b[0m     \u001b[39m# If we have a listlike key, _check_indexing_error will raise\u001b[39;00m\n\u001b[1;32m   3807\u001b[0m     \u001b[39m#  InvalidIndexError. Otherwise we fall through and re-raise\u001b[39;00m\n\u001b[1;32m   3808\u001b[0m     \u001b[39m#  the TypeError.\u001b[39;00m\n\u001b[1;32m   3809\u001b[0m     \u001b[39mself\u001b[39m\u001b[39m.\u001b[39m_check_indexing_error(key)\n",
      "\u001b[0;31mKeyError\u001b[0m: 'type'"
     ]
    }
   ],
   "source": [
    "\n",
    "import numpy as np\n",
    "import seaborn as sns\n",
    "import pandas as pd\n",
    "import matplotlib as mpl\n",
    "import matplotlib.pyplot as plt\n",
    "from datetime import datetime\n",
    "import statistics\n",
    "from scipy.stats import probplot\n",
    "from IPython.core import display\n",
    "from helper_functions import *\n",
    "\n",
    "#all_services = helper.combine_csvs(r\"data/services/\")\n",
    "print(\"Reading CSV....\")\n",
    "all_services = pd.read_csv(r\"data/all_services.csv\")\n",
    "all_services = helper.format_services(all_services)\n",
    "all_services"
   ]
  },
  {
   "attachments": {},
   "cell_type": "markdown",
   "metadata": {},
   "source": [
    "## Visualization of On Time Performance"
   ]
  },
  {
   "attachments": {},
   "cell_type": "markdown",
   "metadata": {},
   "source": [
    "#### All Services by Season\n",
    "\n",
    "Using the date column, arrivals will be divided into four primary categories. The arrivals will be sub-categorized by how many minutes late then plotted onto a pie chart to show on time performance in the seasons of the year"
   ]
  },
  {
   "cell_type": "code",
   "execution_count": null,
   "metadata": {},
   "outputs": [],
   "source": [
    "# TO DO: Automate this\n",
    "late_labels = ['On Time', '6-10 Minutes Late', '10-15 Minutes Late', 'More Than 15 Minutes Late']\n",
    "late_colors = ['green', 'yellow', 'orange', 'red']\n",
    "\n",
    "\n",
    "data_fall = helper.categorize_lateness(all_services[(all_services['date'].dt.month >= 9) & (all_services['date'].dt.month <= 12)])\n",
    "# could not get a 'true' boolean value for the winter months and had to broken up into two separate dfs\n",
    "df1 = all_services[(all_services['date'].dt.month <= 3)]\n",
    "df2 = all_services[(all_services['date'].dt.month >= 12)]\n",
    "result = pd.concat([df1,df2])\n",
    "data_winter = helper.categorize_lateness(result) \n",
    "data_spring = helper.categorize_lateness(all_services[(all_services['date'].dt.month >= 3) & (all_services['date'].dt.month <=6)])\n",
    "data_summer = helper.categorize_lateness(all_services[(all_services['date'].dt.month >= 6) & (all_services['date'].dt.month <=9)])\n",
    "\n",
    "fig, (ax1, ax2, ax3, ax4) = plt.subplots(1,4)\n",
    "\n",
    "# and this\n",
    "ax1.pie(data_fall, colors=late_colors, radius = 1.2, autopct = \"%0.2f%%\", startangle=270)\n",
    "ax1.title.set_text('September - December')\n",
    "ax2.pie(data_winter, colors=late_colors, radius = 1.2, autopct = \"%0.2f%%\", startangle=270)\n",
    "ax2.title.set_text('December - March')\n",
    "ax3.pie(data_spring, colors=late_colors, radius = 1.2, autopct = \"%0.2f%%\", startangle=270)\n",
    "ax3.title.set_text('March - June')\n",
    "ax4.pie(data_summer, colors=late_colors, radius = 1.2, autopct = \"%0.2f%%\", startangle=270)\n",
    "ax4.title.set_text('June - September')\n",
    "\n",
    "fig.set_figwidth(15)\n",
    "fig.set_figheight(5)\n",
    "\n",
    "plt.legend(bbox_to_anchor = (1.0, 1.0), labels = late_labels)\n",
    "plt.show()"
   ]
  },
  {
   "attachments": {},
   "cell_type": "markdown",
   "metadata": {},
   "source": [
    "In Autumn, tree leaves tend to fall on the rails. As they're crushed by the weight of the trains, the wheels of the train and the rails they ride on become coated in a low-friction residue. The buildup is incremental with each passing train. So unlike snow, the buildup cannot be prevented by the regular running of trains. These condition makes it difficult for trains to accelerate, decelerate, and maintain safe speeds leading to delays and other service disruptions so we can expect a lower On Time Performance during the autumn months. "
   ]
  },
  {
   "attachments": {},
   "cell_type": "markdown",
   "metadata": {},
   "source": [
    "## Reporting to Final Destination On Time <br>\n",
    "#### New York Penn Station vs Hoboken Terminal<br>\n",
    "New York Penn and Hoboken Terminal are two major termini for New Jersey Transit. However, New York Penn is the busiest transportation facility in the western hemisphere serving both commuter and intercity trains whereas Hoboken terminal serves exclusively commuter rail. The North River Tunnels that connect to NYP are aging pieces of infrastructure as well. Built over a century ago, the tunnels under the Hudson River have been experienced flooding, electrical problems, and other issues. The tunnels are operating at capacity and frequently result in congestion and delays."
   ]
  },
  {
   "cell_type": "code",
   "execution_count": null,
   "metadata": {},
   "outputs": [],
   "source": [
    "categories = ['AM Peak', 'PM Peak', 'Off Peak', 'Weekday', 'Weekend']\n",
    "\n",
    "fig, axs = plt.subplots(nrows=1, ncols=2, figsize=(10,5))\n",
    "\n",
    "# Plot for New York Penn Station\n",
    "otps = helper.otp_for_destination(all_services,'New York Penn Station')\n",
    "ax = axs[0]\n",
    "ax.grid(axis='y', linestyle='solid', alpha=0.7, zorder=0)\n",
    "xpos = [1, 2, 3, 4, 5]\n",
    "bars = ax.bar(xpos, otps, color='darkred',zorder=3)\n",
    "\n",
    "ax.set_title('On-Time Performance to New York Penn Station')\n",
    "ax.set_xlabel('Time Interval')\n",
    "ax.set_ylabel('On-Time Performance')\n",
    "ax.set_ylim(65,100)\n",
    "ax.set_xticks(xpos)\n",
    "ax.set_xticklabels(categories)\n",
    "for i, bar in enumerate(bars):\n",
    "    height = bar.get_height()\n",
    "    ax.text(bar.get_x() + bar.get_width() / 2.0, height, f\"{otps[i]:.2f}%\", ha='center', va='bottom', color='black')\n",
    "\n",
    "# Plot for Hoboken\n",
    "otps = helper.otp_for_destination(all_services,'Hoboken')\n",
    "ax = axs[1]\n",
    "ax.grid(axis='y', linestyle='solid', alpha=0.7, zorder=0)\n",
    "xpos = [1, 2, 3, 4, 5]\n",
    "bars = ax.bar(xpos, otps, color='darkgreen',zorder=3)\n",
    "\n",
    "ax.set_title('On-Time Performance to Hoboken')\n",
    "ax.set_xlabel('Time Interval')\n",
    "ax.set_ylabel('On-Time Performance')\n",
    "ax.set_ylim(65,100)\n",
    "ax.set_xticks(xpos)\n",
    "ax.set_xticklabels(categories)\n",
    "for i, bar in enumerate(bars):\n",
    "    height = bar.get_height()\n",
    "    ax.text(bar.get_x() + bar.get_width() / 2.0, height, f\"{otps[i]:.2f}%\", ha='center', va='bottom', color='black')\n",
    "\n",
    "plt.tight_layout()\n",
    "plt.show()"
   ]
  },
  {
   "attachments": {},
   "cell_type": "markdown",
   "metadata": {},
   "source": [
    "## Standard Deviation <br>\n",
    "An error bar chart will be plotted to show the standard deviation over time. This can be useful for identifying trends and sources of error. If standard deviation is going up over time, then service is more consistent and reliable. If it is going down, service is getting less consistent. <br>\n",
    "\n",
    "At any given point, low standard deviation indicates that a rail service is consistent in achieving its scheduled arrival times. A higher standard deviation of on-time performance can be interpreted as less reilable or consistent service. It can also indicate inefficient routing of trains or an un-optimized train schedule. <br>\n"
   ]
  },
  {
   "cell_type": "code",
   "execution_count": null,
   "metadata": {},
   "outputs": [],
   "source": [
    "\n",
    "all_services['date'] = pd.to_datetime(all_services['date'])\n",
    "all_services['year'] = all_services['date'].dt.year\n",
    "all_services['month'] = all_services['date'].dt.month\n",
    "\n",
    "## TO DO: look into data accuracy.\n",
    "otps_by_month_year_ny = all_services.groupby(['year', 'month']).apply(lambda x: np.mean(helper.otp_for_destination(x, 'New York Penn Station')))\n",
    "std_devs_by_month_year_ny = all_services.groupby(['year', 'month']).apply(lambda x: helper.calculate_std_dev(helper.otp_for_destination(x, 'New York Penn Station')))\n",
    "otps_by_month_year_hoboken = all_services.groupby(['year', 'month']).apply(lambda x: np.mean(helper.otp_for_destination(x, 'Hoboken')))\n",
    "std_devs_by_month_year_hoboken = all_services.groupby(['year', 'month']).apply(lambda x: helper.calculate_std_dev(helper.otp_for_destination(x, 'Hoboken')))\n",
    "\n",
    "x_labels = [f\"{month}-{year}\" for year, month in otps_by_month_year_ny.index]\n",
    "xpos = np.arange(len(otps_by_month_year_ny))\n",
    "\n",
    "fig, (ax1, ax2) = plt.subplots(2, 1, figsize=(20, 10), sharex=True)\n",
    "\n",
    "# Plot New York Penn data\n",
    "ax1.bar(xpos, otps_by_month_year_ny, color='teal', zorder=0)\n",
    "ax1.errorbar(xpos, otps_by_month_year_ny, yerr=std_devs_by_month_year_ny, fmt='o', color='black', zorder=0, capsize=5)\n",
    "for i, (mean, std_dev) in enumerate(zip(otps_by_month_year_ny, std_devs_by_month_year_ny)):\n",
    "    ax1.text(i, mean + std_dev + 1, round(std_dev, 2), horizontalalignment='center')\n",
    "slope, intercept = np.polyfit(xpos, otps_by_month_year_ny, 1)\n",
    "ax1.plot(xpos, slope*xpos + intercept, color='red', linestyle='--')\n",
    "ax1.set_ylabel('On-Time Performance')\n",
    "ax1.set_ylim([65, 100])\n",
    "ax1.set_title('On-Time Performance: New York Penn - Standard Deviation')\n",
    "\n",
    "# Plot Hoboken data\n",
    "ax2.bar(xpos, otps_by_month_year_hoboken, color='mediumseagreen', zorder=0)\n",
    "ax2.errorbar(xpos, otps_by_month_year_hoboken, yerr=std_devs_by_month_year_hoboken, fmt='o', color='black', zorder=0,capsize=5)\n",
    "for i, (mean, std_dev) in enumerate(zip(otps_by_month_year_hoboken, std_devs_by_month_year_hoboken)):\n",
    "    ax2.text(i, mean + std_dev + 1, round(std_dev, 2), horizontalalignment='center')\n",
    "slope, intercept = np.polyfit(xpos, otps_by_month_year_hoboken, 1)\n",
    "ax2.plot(xpos, slope*xpos + intercept, color='red', linestyle='--')\n",
    "ax2.set_xlabel('Month-Year')\n",
    "ax2.set_ylabel('On-Time Performance')\n",
    "ax2.set_ylim([65, 100])\n",
    "ax2.set_title('On-Time Performance: Hoboken - Standard Deviation')\n",
    "\n",
    "plt.xticks(xpos, x_labels, rotation=90)\n",
    "plt.show()\n"
   ]
  },
  {
   "attachments": {},
   "cell_type": "markdown",
   "metadata": {},
   "source": [
    "## Skewness (come back to this) <br>\n",
    "Skewness is a statistical measure that describes the asymmetry of a probability distribution. It measures the extent of which data points are skewed to the left or right of the normal distribution. However, it is just one shape of a probability distribution and may not paint the whole picture of a dataset.\n",
    "\n",
    "This dataset does not measure early arrivals (the 'delay_minutes' column doesn't contain any negative values). So a positively skewed distribution would indicate that there are more delays that are longer in duration compared to delays that are shorter in duration. This could indicate that there are issues with reliability of the service. If the data becomes more skewed to the right over time it could indicate conditions are worsening over time be it equipment failure, infrastructure problems, or staffing shortages. If it is becoming more skewed to the left, or closer to 0, it could indicate improvements are being made."
   ]
  },
  {
   "cell_type": "code",
   "execution_count": null,
   "metadata": {},
   "outputs": [],
   "source": [
    "trains_to_nyp = all_services[(all_services['to'] == 'New York Penn Station')].copy()\n",
    "delay_minutes = trains_to_nyp['delay_minutes']\n",
    "# Remove invalid values\n",
    "delay_minutes = delay_minutes[~np.isnan(delay_minutes)]\n",
    "\n",
    "max_abs_value = np.max(np.abs(delay_minutes))\n",
    "normalized_delay_minutes = delay_minutes / max_abs_value\n",
    "normalized_delay_minutes = np.nan_to_num(normalized_delay_minutes, nan=0.0, posinf=0.0, neginf=0.0)\n",
    "\n",
    "mean = np.mean(normalized_delay_minutes)\n",
    "mean *= max_abs_value\n",
    "\n",
    "median = np.median(trains_to_nyp['delay_minutes'])\n",
    "\n",
    "std_dev = statistics.stdev(delay_minutes)\n",
    "\n",
    "skewness = (3 * (mean - median)) / std_dev\n",
    "\n",
    "print(\"Skewness:\", skewness)\n",
    "trains_to_nyp['date'] = pd.to_datetime(trains_to_nyp['date'])\n",
    "trains_to_nyp.loc['year'] = trains_to_nyp['date'].dt.year\n",
    "trains_to_nyp.loc['month'] = trains_to_nyp['date'].dt.month\n",
    "print(helper.categorize_lateness(trains_to_nyp))\n",
    "\n",
    "\n",
    "\n",
    "otps = helper.get_monthly_otps(trains_to_nyp)\n",
    "mask = np.array([x is None for x in otps])\n",
    "otps[mask] = np.nan\n",
    "print(otps)"
   ]
  },
  {
   "attachments": {},
   "cell_type": "markdown",
   "metadata": {},
   "source": [
    "## Distributions"
   ]
  },
  {
   "attachments": {},
   "cell_type": "markdown",
   "metadata": {},
   "source": [
    "Identify possible distributions"
   ]
  },
  {
   "cell_type": "code",
   "execution_count": null,
   "metadata": {},
   "outputs": [],
   "source": [
    "\n",
    "plt.figure(figsize=(10, 15))\n",
    "probplot(otps, plot=plt)\n",
    "plt.show()"
   ]
  }
 ],
 "metadata": {
  "kernelspec": {
   "display_name": "Python 3",
   "language": "python",
   "name": "python3"
  },
  "language_info": {
   "codemirror_mode": {
    "name": "ipython",
    "version": 3
   },
   "file_extension": ".py",
   "mimetype": "text/x-python",
   "name": "python",
   "nbconvert_exporter": "python",
   "pygments_lexer": "ipython3",
   "version": "3.10.9"
  },
  "orig_nbformat": 4,
  "vscode": {
   "interpreter": {
    "hash": "250b70949b6eb4b48e36940509b8103844f201ae3647754aee77af257d58d6ce"
   }
  }
 },
 "nbformat": 4,
 "nbformat_minor": 2
}
