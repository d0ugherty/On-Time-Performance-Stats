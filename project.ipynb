{
 "cells": [
  {
   "attachments": {},
   "cell_type": "markdown",
   "metadata": {},
   "source": [
    "Thomas Dougherty\n",
    "\n",
    "Probability and Statistics for Computer Science\n",
    "\n",
    "\n",
    "Introduction\n",
    "\n",
    "    To Do:\n",
    "\n",
    "    Figure out script to iterate through and cleanup all CSVs\n",
    "\n",
    "    Store data from all CSVs\n",
    "\n",
    "    Aggregate data from *all* CSVs into one dataframe\n",
    "    "
   ]
  },
  {
   "attachments": {},
   "cell_type": "markdown",
   "metadata": {},
   "source": [
    "### March 2018"
   ]
  },
  {
   "cell_type": "code",
   "execution_count": null,
   "metadata": {},
   "outputs": [],
   "source": [
    "import numpy as np\n",
    "import pandas as pd\n",
    "import matplotlib as mpl\n",
    "import matplotlib.pyplot as plt\n",
    "from helper_functions import *\n",
    "\n",
    "#read CSV for March 2018\n",
    "services = pd.read_csv('data\\\\2018_03.csv')\n",
    "weather = pd.read_csv('data\\\\weather.csv')\n",
    "#status column is not needed so that will be dropped\n",
    "services.drop(labels=['status'], axis=1, inplace=True)\n",
    "# Amtrak rows are dropped because OTP of Amtrak was not tracked in the dataset\n",
    "services.drop(services[services['type'] == 'Amtrak'].index, inplace=True)\n",
    "services.astype({'date' : 'datetime64[ns]',\n",
    "                'train_id' : 'category',\n",
    "                'stop_sequence' : 'float16',\n",
    "                'from' : 'category',\n",
    "                'from_id': 'category',\n",
    "                'to' : 'category',\n",
    "                'to_id': 'category',\n",
    "                'scheduled_time' : 'datetime64',\n",
    "                'actual_time' : 'datetime64',\n",
    "                'delay_minutes' : 'float16',\n",
    "                'line' : 'category',\n",
    "                'type' : 'category'})\n",
    "services.dtypes\n",
    "services.head(10)"
   ]
  },
  {
   "cell_type": "code",
   "execution_count": null,
   "metadata": {},
   "outputs": [],
   "source": [
    " #create new dataframe with data broken down by line\n",
    "# function to create df. figure out how to import pandas into helper file???\n",
    "def create_new_dataframe(list_njt_lines, list_max_delays, list_avg_delays, list_dates):\n",
    "    df = pd.DataFrame({'Longest Delay (minutes)': list_max_delays.values,\n",
    "                                   'Average Delay (minutes)': list_avg_delays.values,\n",
    "                                   'Date of Longest Delay' : list_dates.values},\n",
    "                                    index=list_njt_lines)\n",
    "    return df\n",
    "\n",
    "njt_lines=services['line'].unique()\n",
    "max_delays = pd.Series(helper.get_max_delay(services,njt_lines)).round(3)\n",
    "avg_delays = pd.Series(helper.get_avg_delay(services,njt_lines)).round(3)\n",
    "dates = pd.Series(helper.get_delay_date(services,njt_lines))\n",
    "train_ids = pd.Series(helper.get_train_ids(services,njt_lines))\n",
    "\n",
    "performance_by_line_march = create_new_dataframe(njt_lines, max_delays, avg_delays, dates)\n",
    "\n",
    "performance_by_line_march.astype({'Longest Delay (minutes)' :'float16',\n",
    "                            'Average Delay (minutes)' :'float16',\n",
    "                            'Date of Longest Delay' : 'datetime64[ns]'\n",
    "                            })\n",
    "\n",
    "performance_by_line_march"
   ]
  },
  {
   "attachments": {},
   "cell_type": "markdown",
   "metadata": {},
   "source": [
    "#### Analysis:\n",
    "##### Most of the delays occur between March 1 and March 7. In 2018, two severe winter storms travelled across the eastern United States. One on March 1-2 and March 6-8 just a few days later. The storms brought high wind gusts, precipation, and coastal flooding leading to service delays and cancellations.\n",
    "\n",
    "###### https://www.njtransit.com/press-releases/nj-transit-implements-severe-weather-rail-schedule-winter-storm\n",
    "\n",
    "###### https://www.climate.gov/news-features/event-tracker/nor%E2%80%99easters-pummel-us-northeast-late-winter-2018"
   ]
  },
  {
   "attachments": {},
   "cell_type": "markdown",
   "metadata": {},
   "source": [
    "### November 2018:"
   ]
  },
  {
   "cell_type": "code",
   "execution_count": null,
   "metadata": {},
   "outputs": [],
   "source": [
    "#read CSV for March 2018\n",
    "services_nov = pd.read_csv('data\\\\2018_11.csv')\n",
    "#status column is not needed so that will be dropped\n",
    "services_nov.drop(labels=['status'], axis=1, inplace=True)\n",
    "# Amtrak rows are dropped because OTP of Amtrak was not tracked in the dataset\n",
    "services_nov.drop(services_nov[services_nov['type'] == 'Amtrak'].index, inplace=True)\n",
    "services_nov.drop(services_nov[services_nov['line'] == 'Meadowlands Rail'].index, inplace=True)\n",
    "services_nov.astype({'date' : 'datetime64[ns]',\n",
    "                'train_id' : 'category',\n",
    "                'stop_sequence' : 'float16',\n",
    "                'from' : 'category',\n",
    "                'from_id': 'category',\n",
    "                'to' : 'category',\n",
    "                'to_id': 'category',\n",
    "                'scheduled_time' : 'datetime64',\n",
    "                'actual_time' : 'datetime64',\n",
    "                'delay_minutes' : 'float16',\n",
    "                'line' : 'category',\n",
    "                'type' : 'category'})\n",
    "services_nov.dtypes\n",
    "services_nov\n",
    "\n",
    "njt_lines=services_nov['line'].unique()\n",
    "max_delays = pd.Series(helper.get_max_delay(services_nov,njt_lines)).round(3)\n",
    "avg_delays = pd.Series(helper.get_avg_delay(services_nov,njt_lines)).round(3)\n",
    "dates = pd.Series(helper.get_delay_date(services_nov,njt_lines))\n",
    "train_ids = pd.Series(helper.get_train_ids(services_nov,njt_lines))\n",
    "\n",
    "performance_by_line_march = create_new_dataframe(njt_lines, max_delays, avg_delays, dates)\n",
    "\n",
    "performance_by_line_march.astype({'Longest Delay (minutes)' :'float16',\n",
    "                            'Average Delay (minutes)' :'float16',\n",
    "                            'Date of Longest Delay' : 'datetime64[ns]'\n",
    "                            })\n",
    "\n",
    "performance_by_line_march"
   ]
  }
 ],
 "metadata": {
  "kernelspec": {
   "display_name": "Python 3",
   "language": "python",
   "name": "python3"
  },
  "language_info": {
   "codemirror_mode": {
    "name": "ipython",
    "version": 3
   },
   "file_extension": ".py",
   "mimetype": "text/x-python",
   "name": "python",
   "nbconvert_exporter": "python",
   "pygments_lexer": "ipython3",
   "version": "3.10.9"
  },
  "orig_nbformat": 4,
  "vscode": {
   "interpreter": {
    "hash": "250b70949b6eb4b48e36940509b8103844f201ae3647754aee77af257d58d6ce"
   }
  }
 },
 "nbformat": 4,
 "nbformat_minor": 2
}
