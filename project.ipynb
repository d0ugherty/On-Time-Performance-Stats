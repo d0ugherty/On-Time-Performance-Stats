{
 "cells": [
  {
   "attachments": {},
   "cell_type": "markdown",
   "metadata": {},
   "source": [
    "Thomas Dougherty\n",
    "\n",
    "Probability and Statistics for Computer Science\n",
    "\n",
    "\n",
    "Introduction\n",
    "\n",
    "    To Do:\n",
    "\n",
    "    Figure out script to iterate through and cleanup all CSVs\n",
    "\n",
    "    Store data from all CSVs\n",
    "\n",
    "    Aggregate data from *all* CSVs into one dataframe\n",
    "    "
   ]
  },
  {
   "attachments": {},
   "cell_type": "markdown",
   "metadata": {},
   "source": [
    "### March 2018"
   ]
  },
  {
   "cell_type": "code",
   "execution_count": null,
   "metadata": {},
   "outputs": [],
   "source": [
    "import numpy as np\n",
    "import pandas as pd\n",
    "import matplotlib as mpl\n",
    "import matplotlib.pyplot as plt\n",
    "from helper_functions import *\n",
    "\n",
    "#read CSV for March 2018\n",
    "services = pd.read_csv('data\\\\2018_03.csv')\n",
    "services = helper.format_services(services)\n",
    "\n",
    "\n",
    "weather = pd.read_csv('data\\\\weather.csv')\n",
    "weather = helper.format_weather(weather,'March')\n",
    "weather.head(10)\n",
    "services.head(10)"
   ]
  },
  {
   "cell_type": "code",
   "execution_count": null,
   "metadata": {},
   "outputs": [],
   "source": [
    " #create new dataframe with data broken down by line\n",
    "# function to create df. figure out how to import pandas into helper file???\n",
    "\n",
    "njt_lines=services['line'].unique()\n",
    "max_delays = pd.Series(helper.get_max_delay(services,njt_lines)).round(3)\n",
    "avg_delays = pd.Series(helper.get_avg_delay(services,njt_lines)).round(3)\n",
    "dates = pd.Series(helper.get_delay_date(services,njt_lines))\n",
    "train_ids = pd.Series(helper.get_train_ids(services,njt_lines))\n",
    "\n",
    "performance_by_line_march = helper.create_new_dataframe(njt_lines, max_delays, avg_delays, dates)\n",
    "\n",
    "\n",
    "performance_by_line_march"
   ]
  },
  {
   "attachments": {},
   "cell_type": "markdown",
   "metadata": {},
   "source": [
    "### November 2018:"
   ]
  },
  {
   "cell_type": "code",
   "execution_count": null,
   "metadata": {},
   "outputs": [],
   "source": [
    "#read CSV for March 2018\n",
    "services_nov = pd.read_csv('data\\\\2018_11.csv')\n",
    "#status column is not needed so that will be dropped\n",
    "services_nov.drop(labels=['status'], axis=1, inplace=True)\n",
    "# Amtrak rows are dropped because OTP of Amtrak was not tracked in the dataset\n",
    "services_nov.drop(services_nov[services_nov['type'] == 'Amtrak'].index, inplace=True)\n",
    "services_nov.drop(services_nov[services_nov['line'] == 'Meadowlands Rail'].index, inplace=True)\n",
    "services_nov.astype({'date' : 'datetime64[ns]',\n",
    "                'train_id' : 'category',\n",
    "                'stop_sequence' : 'float16',\n",
    "                'from' : 'category',\n",
    "                'from_id': 'category',\n",
    "                'to' : 'category',\n",
    "                'to_id': 'category',\n",
    "                'scheduled_time' : 'datetime64',\n",
    "                'actual_time' : 'datetime64',\n",
    "                'delay_minutes' : 'float16',\n",
    "                'line' : 'category',\n",
    "                'type' : 'category'},\n",
    "                errors='ignore')\n",
    "services_nov.dtypes\n",
    "services_nov\n",
    "\n",
    "njt_lines=services_nov['line'].unique()\n",
    "max_delays = pd.Series(helper.get_max_delay(services_nov,njt_lines)).round(3)\n",
    "avg_delays = pd.Series(helper.get_avg_delay(services_nov,njt_lines)).round(3)\n",
    "dates = pd.Series(helper.get_delay_date(services_nov,njt_lines))\n",
    "train_ids = pd.Series(helper.get_train_ids(services_nov,njt_lines))\n",
    "\n",
    "performance_by_line_nov = helper.create_new_dataframe(njt_lines, max_delays, avg_delays, dates)\n",
    "\n",
    "performance_by_line_nov"
   ]
  },
  {
   "cell_type": "code",
   "execution_count": null,
   "metadata": {},
   "outputs": [],
   "source": [
    "######### weather data \n",
    "#####\n",
    "###\n",
    "##\n",
    "#weather = weather.astype({'DATE':'datetime64'})\n",
    "\n",
    "#weather['DATE'].apply(pd.Timestamp.month_name)\n",
    "\n",
    "#nov_weather = weather.loc[weather['DATE'].apply(pd.Timestamp.month_name) == 'November']\n",
    "nov_weather.head(10)\n"
   ]
  }
 ],
 "metadata": {
  "kernelspec": {
   "display_name": "Python 3",
   "language": "python",
   "name": "python3"
  },
  "language_info": {
   "codemirror_mode": {
    "name": "ipython",
    "version": 3
   },
   "file_extension": ".py",
   "mimetype": "text/x-python",
   "name": "python",
   "nbconvert_exporter": "python",
   "pygments_lexer": "ipython3",
   "version": "3.10.9"
  },
  "orig_nbformat": 4,
  "vscode": {
   "interpreter": {
    "hash": "250b70949b6eb4b48e36940509b8103844f201ae3647754aee77af257d58d6ce"
   }
  }
 },
 "nbformat": 4,
 "nbformat_minor": 2
}
