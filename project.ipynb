{
 "cells": [
  {
   "attachments": {},
   "cell_type": "markdown",
   "metadata": {},
   "source": [
    "Thomas Dougherty\n",
    "\n",
    "Probability and Statistics for Computer Science\n",
    "\n",
    "\n",
    "Introduction\n",
    "\n",
    "    To Do:\n",
    "\n",
    "    Figure out script to iterate through and cleanup all CSVs\n",
    "\n",
    "    Store data from all CSVs\n",
    "\n",
    "    Aggregate data from *all* CSVs into one dataframe\n",
    "    "
   ]
  },
  {
   "cell_type": "code",
   "execution_count": null,
   "metadata": {},
   "outputs": [],
   "source": [
    "import numpy as np\n",
    "import pandas as pd\n",
    "import matplotlib as mpl\n",
    "import matplotlib.pyplot as plt\n",
    "from helper_functions import *\n",
    "\n",
    "#read CSV for March 2018\n",
    "services = pd.read_csv('data\\\\2018_03.csv',index_col=False)\n",
    "services = services.astype({'date':'datetime64'})\n",
    "#status column is not needed so that will be dropped\n",
    "services.drop(labels=['status'], axis=1, inplace=True)\n",
    "# Amtrak rows are dropped because OTP of Amtrak was not tracked in the dataset\n",
    "services.drop(services[services['type'] == 'Amtrak'].index, inplace=True)\n",
    "services = services.astype({'train_id' : 'category',\n",
    "                'stop_sequence' : 'float16',\n",
    "                'from' : 'category',\n",
    "                'from_id': 'category',\n",
    "                'to' : 'category',\n",
    "                'to_id': 'category',\n",
    "                'scheduled_time' : 'datetime64',\n",
    "                'actual_time' : 'datetime64',\n",
    "                'delay_minutes' : 'float64',\n",
    "                'line' : 'category',\n",
    "                'type' : 'category'})\n",
    "\n",
    "services = services[services['delay_minutes'].notnull() & services['delay_minutes'] >= 1.0]\n",
    "services"
   ]
  },
  {
   "cell_type": "code",
   "execution_count": null,
   "metadata": {},
   "outputs": [],
   "source": [
    " #create new dataframe with data broken down by line\n",
    "\n",
    "njt_lines=services['line'].unique()\n",
    "max_delays = pd.Series(helper.get_max_delay(services,njt_lines)).round(3)\n",
    "avg_delays = pd.Series(helper.get_avg_delay(services,njt_lines)).round(3)\n",
    "dates = pd.Series(helper.get_delay_date(services,njt_lines))\n",
    "\n",
    "\n",
    "performance_by_line = pd.DataFrame({'Longest Delay (minutes)': max_delays.values,\n",
    "                                   'Average Delay (minutes)': avg_delays.values,\n",
    "                                   'Date of Longest Delay' : dates.values},\n",
    "                                    index=njt_lines)\n",
    "\n",
    "performance_by_line"
   ]
  },
  {
   "attachments": {},
   "cell_type": "markdown",
   "metadata": {},
   "source": [
    "Visualization of On-Time Performance by Rail Line\n",
    "\n",
    "    notes: Princeton Shuttle is outlier considering it's short trip distance"
   ]
  },
  {
   "cell_type": "code",
   "execution_count": null,
   "metadata": {},
   "outputs": [],
   "source": [
    "ax = performance_by_line.plot.bar(y='Longest Delay (minutes)')\n",
    "ax"
   ]
  },
  {
   "attachments": {},
   "cell_type": "markdown",
   "metadata": {},
   "source": [
    "Breakdown by day of the week"
   ]
  },
  {
   "cell_type": "code",
   "execution_count": null,
   "metadata": {},
   "outputs": [],
   "source": [
    "performance_by_line['Date of Longest Delay'].apply(pd.Datetime.dayofweek)"
   ]
  }
 ],
 "metadata": {
  "kernelspec": {
   "display_name": "myenv",
   "language": "python",
   "name": "python3"
  },
  "language_info": {
   "codemirror_mode": {
    "name": "ipython",
    "version": 3
   },
   "file_extension": ".py",
   "mimetype": "text/x-python",
   "name": "python",
   "nbconvert_exporter": "python",
   "pygments_lexer": "ipython3",
   "version": "3.10.9"
  },
  "orig_nbformat": 4,
  "vscode": {
   "interpreter": {
    "hash": "89a5ea612cdc00f5c04ffc4e9e24373f7fd58569112435e6e66ea6616ae24b6a"
   }
  }
 },
 "nbformat": 4,
 "nbformat_minor": 2
}
