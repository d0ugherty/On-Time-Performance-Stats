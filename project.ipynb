{
 "cells": [
  {
   "attachments": {},
   "cell_type": "markdown",
   "metadata": {},
   "source": [
    "Thomas Dougherty\n",
    "\n",
    "Probability and Statistics for Computer Science\n",
    "\n",
    "\n",
    "Introduction\n",
    "\n",
    "    To Do:\n",
    "\n",
    "    Figure out script to iterate through and cleanup all CSVs\n",
    "\n",
    "    Store data from all CSVs\n",
    "\n",
    "    Aggregate data from *all* CSVs into one dataframe\n",
    "    "
   ]
  },
  {
   "cell_type": "code",
   "execution_count": 9,
   "metadata": {},
   "outputs": [
    {
     "name": "stdout",
     "output_type": "stream",
     "text": [
      "0      91.083\n",
      "1     100.267\n",
      "2      86.000\n",
      "3     100.283\n",
      "4      99.083\n",
      "5      94.000\n",
      "6      79.000\n",
      "7     100.217\n",
      "8     111.183\n",
      "9       4.467\n",
      "10     75.017\n",
      "dtype: float64\n"
     ]
    },
    {
     "data": {
      "text/plain": [
       "Longest Delay (minutes)    float64\n",
       "Average Delay (minutes)    float64\n",
       "dtype: object"
      ]
     },
     "execution_count": 9,
     "metadata": {},
     "output_type": "execute_result"
    }
   ],
   "source": [
    "import numpy as np\n",
    "import pandas as pd\n",
    "import matplotlib as mpl\n",
    "import matplotlib.pyplot as plt\n",
    "from helper_functions import *\n",
    "\n",
    "#read CSV for March 2018\n",
    "services = pd.read_csv('data\\\\2018_03.csv')\n",
    "#status column is not needed so that will be dropped\n",
    "services.drop(labels=['status'], axis=1, inplace=True)\n",
    "# Amtrak rows are dropped because OTP of Amtrak was not tracked in the dataset\n",
    "services.drop(services[services['type'] == 'Amtrak'].index, inplace=True)\n",
    "services.astype({'date' : 'datetime64',\n",
    "                'train_id' : 'category',\n",
    "                'stop_sequence' : 'float16',\n",
    "                'from' : 'category',\n",
    "                'from_id': 'category',\n",
    "                'to' : 'category',\n",
    "                'to_id': 'category',\n",
    "                'scheduled_time' : 'datetime64',\n",
    "                'actual_time' : 'datetime64',\n",
    "                'delay_minutes' : 'float16',\n",
    "                'line' : 'category',\n",
    "                'type' : 'category'})\n",
    "                \n",
    "# create new dataframe with data broken down by line\n",
    "njt_lines=services['line'].unique()\n",
    "max_delays = pd.Series(helper.get_max_delay(services,njt_lines)).round(3)\n",
    "avg_delays = pd.Series(helper.get_avg_delay(services,njt_lines)).round(3)\n",
    "\n",
    "performance_by_line = pd.DataFrame({'Longest Delay (minutes)': max_delays,\n",
    "                                   'Average Delay (minutes)': avg_delays},\n",
    "                                    index=njt_lines)\n",
    "\n",
    "performance_by_line.astype({'Longest Delay (minutes)' :'float16',\n",
    "                            'Average Delay (minutes)' :'float16'})\n",
    "\n",
    "print(max_delays)\n",
    "performance_by_line.dtypes"
   ]
  },
  {
   "attachments": {},
   "cell_type": "markdown",
   "metadata": {},
   "source": [
    "Visualization of On-Time Performance by Rail Line\n",
    "\n",
    "    notes: Princeton Shuttle is outlier considering it's short trip distance"
   ]
  },
  {
   "cell_type": "code",
   "execution_count": null,
   "metadata": {},
   "outputs": [],
   "source": []
  }
 ],
 "metadata": {
  "kernelspec": {
   "display_name": "Python 3",
   "language": "python",
   "name": "python3"
  },
  "language_info": {
   "codemirror_mode": {
    "name": "ipython",
    "version": 3
   },
   "file_extension": ".py",
   "mimetype": "text/x-python",
   "name": "python",
   "nbconvert_exporter": "python",
   "pygments_lexer": "ipython3",
   "version": "3.10.9"
  },
  "orig_nbformat": 4,
  "vscode": {
   "interpreter": {
    "hash": "250b70949b6eb4b48e36940509b8103844f201ae3647754aee77af257d58d6ce"
   }
  }
 },
 "nbformat": 4,
 "nbformat_minor": 2
}
