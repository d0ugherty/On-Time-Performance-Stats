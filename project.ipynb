{
 "cells": [
  {
   "attachments": {},
   "cell_type": "markdown",
   "metadata": {},
   "source": [
    "Thomas Dougherty\n",
    "\n",
    "Probability and Statistics for Computer Science\n",
    "\n",
    "\n",
    "Introduction\n",
    "\n",
    "    Fill this in later."
   ]
  },
  {
   "cell_type": "code",
   "execution_count": 11,
   "metadata": {},
   "outputs": [
    {
     "name": "stdout",
     "output_type": "stream",
     "text": [
      "Northeast Corrdr\n",
      "No Jersey Coast\n",
      "Main Line\n",
      "Morristown Line\n",
      "Gladstone Branch\n",
      "Raritan Valley\n",
      "Bergen Co. Line \n",
      "Atl. City Line\n",
      "Montclair-Boonton\n",
      "Princeton Shuttle\n",
      "Pascack Valley\n"
     ]
    }
   ],
   "source": [
    "import numpy as np\n",
    "import pandas as pd\n",
    "import matplotlib as mpl\n",
    "import matplotlib.pyplot as plt\n",
    "import glob\n",
    "\n",
    "#read CSV for March 2018\n",
    "services = pd.read_csv('data\\\\2018_03.csv')\n",
    "#status column is not needed so that will be dropped\n",
    "\n",
    "services.drop(labels=['status'], axis=1, inplace=True)\n",
    "services.drop(services[services['type'] == 'Amtrak'].index, inplace=True)\n",
    "services.astype({'date' : 'datetime64',\n",
    "                'train_id' : 'category',\n",
    "                'stop_sequence' : 'float16',\n",
    "                'from' : 'category',\n",
    "                'from_id': 'category',\n",
    "                'to' : 'category',\n",
    "                'to_id': 'category',\n",
    "                'scheduled_time' : 'datetime64',\n",
    "                'actual_time' : 'datetime64',\n",
    "                'delay_minutes' : 'float16',\n",
    "                'line' : 'category',\n",
    "                'type' : 'category'})\n",
    "\n",
    "# testing stuff\n",
    "njt_lines=services['line'].unique()\n",
    "\n",
    "for line in njt_lines:\n",
    "    print(line)"
   ]
  }
 ],
 "metadata": {
  "kernelspec": {
   "display_name": "myenv",
   "language": "python",
   "name": "python3"
  },
  "language_info": {
   "codemirror_mode": {
    "name": "ipython",
    "version": 3
   },
   "file_extension": ".py",
   "mimetype": "text/x-python",
   "name": "python",
   "nbconvert_exporter": "python",
   "pygments_lexer": "ipython3",
   "version": "3.10.9"
  },
  "orig_nbformat": 4,
  "vscode": {
   "interpreter": {
    "hash": "89a5ea612cdc00f5c04ffc4e9e24373f7fd58569112435e6e66ea6616ae24b6a"
   }
  }
 },
 "nbformat": 4,
 "nbformat_minor": 2
}
