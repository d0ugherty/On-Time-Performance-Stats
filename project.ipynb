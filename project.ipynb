{
 "cells": [
  {
   "attachments": {},
   "cell_type": "markdown",
   "metadata": {},
   "source": [
    "Thomas Dougherty\n",
    "\n",
    "Probability and Statistics for Computer Science\n",
    "\n",
    "\n",
    "Introduction\n",
    "\n",
    "    On-time Performance of New Jersey Transit Commuter Rail Services"
   ]
  },
  {
   "cell_type": "code",
   "execution_count": 85,
   "metadata": {},
   "outputs": [],
   "source": [
    "import numpy as np\n",
    "import pandas as pd\n",
    "import matplotlib as mpl\n",
    "import matplotlib.pyplot as plt\n",
    "from scripts import scripts\n",
    "import glob\n",
    "\n",
    "#read CSV for March 2018\n",
    "services = pd.read_csv('data\\\\2018_03.csv')\n",
    "\n",
    "#status column is not needed\n",
    "services.drop(labels=['status'], axis=1, inplace=True)\n",
    "#amtrak lateness is not tracked (returns NaN) so drop Amtrak rows\n",
    "services.drop(services.loc[services['type'] == 'Amtrak'].index, inplace=True)\n",
    "\n",
    "services = services.astype({'date' : 'datetime64[ns]',\n",
    "                'train_id' : 'category',\n",
    "                'stop_sequence' : 'float16',\n",
    "                'from' : 'category',\n",
    "                'from_id': 'category',\n",
    "                'to' : 'category',\n",
    "                'to_id': 'category',\n",
    "                'scheduled_time' : 'datetime64',\n",
    "                'actual_time' : 'datetime64',\n",
    "                'delay_minutes' : 'float16',\n",
    "                'line' : 'category',\n",
    "                'type' : 'category'})"
   ]
  },
  {
   "cell_type": "code",
   "execution_count": 86,
   "metadata": {},
   "outputs": [
    {
     "name": "stdout",
     "output_type": "stream",
     "text": [
      "['Northeast Corrdr', 'No Jersey Coast', 'Main Line', 'Morristown Line', 'Gladstone Branch', ..., 'Bergen Co. Line ', 'Atl. City Line', 'Montclair-Boonton', 'Princeton Shuttle', 'Pascack Valley']\n",
      "Length: 11\n",
      "Categories (11, object): ['Atl. City Line', 'Bergen Co. Line ', 'Gladstone Branch', 'Main Line', ..., 'Northeast Corrdr', 'Pascack Valley', 'Princeton Shuttle', 'Raritan Valley']\n",
      "[91.06, 100.25, 86.0, 100.3, 99.06, 94.0, 79.0, 100.2, 111.2, 4.465, 75.0]\n"
     ]
    }
   ],
   "source": [
    "#njt_lines = ['Northeast Corrdr', 'No Jersey Coast', 'Raritan Valley', 'Atl. City Line', 'Bergen Co. Line', 'Gladstone Branch', 'Main Line', 'Montclair-Boonton', 'Morristown Line']\n",
    "print(services['line'].unique())\n",
    "\n",
    "njt_lines = services['line'].unique()\n",
    "# Finish this\n",
    "data = {'Train_ID': [],\n",
    "        'Line': [],\n",
    "        'Date_of_Max': [],\n",
    "        'Max_Delay': [],\n",
    "        'Average_Delay': []}\n",
    "\n",
    "list_of_max_delay = scripts.get_max_delay(services,njt_lines)\n",
    "print(list_of_max_delay)\n",
    "new_df = pd.DataFrame(data, columns = ['Train_ID', 'Line', 'Date_of_Max', 'Max_Delay', 'Average_Delay'])\n",
    "\n"
   ]
  },
  {
   "cell_type": "markdown",
   "metadata": {},
   "source": [
    "\n",
    "#new_df = pd.DataFrame(data, columns = ['date','train_id','scheduled_time','actual_time','delay_minutes','line'])\n",
    "\n",
    "#get services for the North Jersey Coast Line\n",
    "njc_srvc = services.loc[(services['line'] == 'No Jersey Coast')]\n",
    "njc_srvc.head(10)\n",
    "\n",
    "#get average delay for NJCL in March 2018\n",
    "njc_avg = njc_srvc['delay_minutes'].mean()\n",
    "print('NJCL Average Delay: ' + str(njc_avg))\n",
    "njc_max = njc_srvc['delay_minutes'].max()\n",
    "print('NJCL Max Delay: '+ str(njc_max))\n",
    "#get services for NEC\n",
    "nec_srvc = services.loc[(services['line'] == 'Northeast Corrdr')]\n",
    "nec_avg = nec_srvc['delay_minutes'].mean()\n",
    "print('NEC Average Delay: ' +  str(nec_avg))\n",
    "nec_max = nec_srvc['delay_minutes'].max()\n",
    "print('NEC Max Delay: ' + str(nec_max))\n",
    "#get services for Raritan Valley Line\n",
    "rvl_srvc = services.loc[(services['line'] == 'Raritan Valley')]\n",
    "rvl_avg = rvl_srvc['delay_minutes'].mean()\n",
    "rvl_max = rvl_srvc['delay_minutes'].max()\n",
    "print('RVL Average Delay: ' + str(rvl_avg))\n",
    "#get services for Atlantic City Line\n",
    "acl_srvc = services.loc[(services['line'] == 'Atl. City Line')]\n",
    "acl_avg = acl_srvc['delay_minutes'].mean()\n",
    "acl_max = acl_srvc['delay_minutes'].max()\n",
    "print('ACL Average Delay: ' + str(acl_avg))\n",
    "print('ACL Max Delay: ' + str(acl_max))\n",
    "#get services for Bergen County and Port Jervis Lines\n",
    "pjl_srvc = services.loc[(services['line'] == 'Bergen Co. Line ')]\n",
    "pjl_avg = pjl_srvc['delay_minutes'].mean()\n",
    "pjl_max = pjl_srvc['delay_minutes'].max()\n",
    "print('Port Jervis/Bergen County Line Average Delay: ' + str(pjl_avg))\n",
    "print('Port Jervis/Bergen County Line  Max Delay: ' + str(pjl_max))\n",
    "#get services for Gladstone Branch\n",
    "gb_srvc = services.loc[(services['line'] == 'Gladstone Branch')]\n",
    "gb_avg = gb_srvc['delay_minutes'].mean()\n",
    "gb_max = gb_srvc['delay_minutes'].max()\n",
    "print('Gladstone Branch Average Delay: ' + str(gb_avg))\n",
    "print('Gladstone Branch Max Delay: ' + str(gb_max))\n",
    "#get services for Main Line\n",
    "ml_srvc = services.loc[(services['line'] == 'Main Line')]\n",
    "ml_avg = ml_srvc['delay_minutes'].mean()\n",
    "ml_max = ml_srvc['delay_minutes'].max()\n",
    "print('Main Line Average Delay: ' + str(ml_avg))\n",
    "print('Main Line Max Delay: ' + str(ml_max))\n",
    "#get services for Montclair-Boonton Line\n",
    "mbl_srvc = services.loc[(services['line'] == 'Montclair-Boonton')]\n",
    "mbl_avg = mbl_srvc['delay_minutes'].mean()\n",
    "mbl_max = mbl_srvc['delay_minutes'].max()\n",
    "mbl_max_date = mbl_srvc.loc[]\n",
    "print('Montclair-Boonton Line Average Delay: ' + str(mbl_avg))\n",
    "print('Montclair-Bonton Max Delay: ' + str(mbl_max))\n",
    "#get services for Morristown Line\n",
    "mrs_srvc = services.loc[(services['line'] == 'Morristown Line')]\n",
    "mrs_avg = mrs_srvc['delay_minutes'].mean()\n",
    "mrs_max = mrs_srvc['delay_minutes'].max()\n",
    "print('Morristown Line Average Delay: ' + str(mrs_avg))\n",
    "print('Morristown Line Max Delay: ' + str(mrs_max))\n",
    "\n",
    "\n",
    "data = {'Train_ID': [],\n",
    "        'Line': [],\n",
    "        'Date_of_Max': [],\n",
    "        'Max_Delay': [],\n",
    "        'Average_Delay': []}\n"
   ]
  },
  {
   "attachments": {},
   "cell_type": "markdown",
   "metadata": {},
   "source": [
    "                Northeast Corridor"
   ]
  },
  {
   "attachments": {},
   "cell_type": "markdown",
   "metadata": {},
   "source": [
    "        Main Line"
   ]
  },
  {
   "attachments": {},
   "cell_type": "markdown",
   "metadata": {},
   "source": [
    "        Montclair-Boonton Line"
   ]
  },
  {
   "attachments": {},
   "cell_type": "markdown",
   "metadata": {},
   "source": [
    "Morristown Line"
   ]
  },
  {
   "attachments": {},
   "cell_type": "markdown",
   "metadata": {},
   "source": [
    "            Bergen County & Port Jervis Lines (combined)"
   ]
  }
 ],
 "metadata": {
  "kernelspec": {
   "display_name": "myenv",
   "language": "python",
   "name": "python3"
  },
  "language_info": {
   "codemirror_mode": {
    "name": "ipython",
    "version": 3
   },
   "file_extension": ".py",
   "mimetype": "text/x-python",
   "name": "python",
   "nbconvert_exporter": "python",
   "pygments_lexer": "ipython3",
   "version": "3.10.9"
  },
  "orig_nbformat": 4,
  "vscode": {
   "interpreter": {
    "hash": "89a5ea612cdc00f5c04ffc4e9e24373f7fd58569112435e6e66ea6616ae24b6a"
   }
  }
 },
 "nbformat": 4,
 "nbformat_minor": 2
}
