{
 "cells": [
  {
   "attachments": {},
   "cell_type": "markdown",
   "metadata": {},
   "source": [
    "Thomas Dougherty\n",
    "\n",
    "Probability and Statistics for Computer Science\n",
    "\n",
    "\n",
    "Introduction\n",
    "\n",
    "    To Do:\n",
    "\n",
    "    Figure out script to iterate through and cleanup all CSVs\n",
    "\n",
    "    Store data from all CSVs\n",
    "\n",
    "    Aggregate data from *all* CSVs into one dataframe\n",
    "    "
   ]
  },
  {
   "cell_type": "code",
   "execution_count": 16,
   "metadata": {},
   "outputs": [
    {
     "name": "stdout",
     "output_type": "stream",
     "text": [
      "0      91.083\n",
      "1     100.267\n",
      "2      86.000\n",
      "3     100.283\n",
      "4      99.083\n",
      "5      94.000\n",
      "6      79.000\n",
      "7     100.217\n",
      "8     111.183\n",
      "9       4.467\n",
      "10     75.017\n",
      "dtype: float64\n"
     ]
    },
    {
     "data": {
      "text/html": [
       "<div>\n",
       "<style scoped>\n",
       "    .dataframe tbody tr th:only-of-type {\n",
       "        vertical-align: middle;\n",
       "    }\n",
       "\n",
       "    .dataframe tbody tr th {\n",
       "        vertical-align: top;\n",
       "    }\n",
       "\n",
       "    .dataframe thead th {\n",
       "        text-align: right;\n",
       "    }\n",
       "</style>\n",
       "<table border=\"1\" class=\"dataframe\">\n",
       "  <thead>\n",
       "    <tr style=\"text-align: right;\">\n",
       "      <th></th>\n",
       "      <th>Longest Delay (minutes)</th>\n",
       "      <th>Average Delay (minutes)</th>\n",
       "    </tr>\n",
       "  </thead>\n",
       "  <tbody>\n",
       "    <tr>\n",
       "      <th>Northeast Corrdr</th>\n",
       "      <td>91.083</td>\n",
       "      <td>4.253</td>\n",
       "    </tr>\n",
       "    <tr>\n",
       "      <th>No Jersey Coast</th>\n",
       "      <td>100.267</td>\n",
       "      <td>3.932</td>\n",
       "    </tr>\n",
       "    <tr>\n",
       "      <th>Main Line</th>\n",
       "      <td>86.000</td>\n",
       "      <td>3.542</td>\n",
       "    </tr>\n",
       "    <tr>\n",
       "      <th>Morristown Line</th>\n",
       "      <td>100.283</td>\n",
       "      <td>3.780</td>\n",
       "    </tr>\n",
       "    <tr>\n",
       "      <th>Gladstone Branch</th>\n",
       "      <td>99.083</td>\n",
       "      <td>3.654</td>\n",
       "    </tr>\n",
       "    <tr>\n",
       "      <th>Raritan Valley</th>\n",
       "      <td>94.000</td>\n",
       "      <td>2.662</td>\n",
       "    </tr>\n",
       "    <tr>\n",
       "      <th>Bergen Co. Line</th>\n",
       "      <td>79.000</td>\n",
       "      <td>2.964</td>\n",
       "    </tr>\n",
       "    <tr>\n",
       "      <th>Atl. City Line</th>\n",
       "      <td>100.217</td>\n",
       "      <td>4.482</td>\n",
       "    </tr>\n",
       "    <tr>\n",
       "      <th>Montclair-Boonton</th>\n",
       "      <td>111.183</td>\n",
       "      <td>3.382</td>\n",
       "    </tr>\n",
       "    <tr>\n",
       "      <th>Princeton Shuttle</th>\n",
       "      <td>4.467</td>\n",
       "      <td>0.096</td>\n",
       "    </tr>\n",
       "    <tr>\n",
       "      <th>Pascack Valley</th>\n",
       "      <td>75.017</td>\n",
       "      <td>2.915</td>\n",
       "    </tr>\n",
       "  </tbody>\n",
       "</table>\n",
       "</div>"
      ],
      "text/plain": [
       "                   Longest Delay (minutes)  Average Delay (minutes)\n",
       "Northeast Corrdr                    91.083                    4.253\n",
       "No Jersey Coast                    100.267                    3.932\n",
       "Main Line                           86.000                    3.542\n",
       "Morristown Line                    100.283                    3.780\n",
       "Gladstone Branch                    99.083                    3.654\n",
       "Raritan Valley                      94.000                    2.662\n",
       "Bergen Co. Line                     79.000                    2.964\n",
       "Atl. City Line                     100.217                    4.482\n",
       "Montclair-Boonton                  111.183                    3.382\n",
       "Princeton Shuttle                    4.467                    0.096\n",
       "Pascack Valley                      75.017                    2.915"
      ]
     },
     "execution_count": 16,
     "metadata": {},
     "output_type": "execute_result"
    }
   ],
   "source": [
    "import numpy as np\n",
    "import pandas as pd\n",
    "import matplotlib as mpl\n",
    "import matplotlib.pyplot as plt\n",
    "from helper_functions import *\n",
    "\n",
    "#read CSV for March 2018\n",
    "services = pd.read_csv('data\\\\2018_03.csv')\n",
    "#status column is not needed so that will be dropped\n",
    "services.drop(labels=['status'], axis=1, inplace=True)\n",
    "# Amtrak rows are dropped because OTP of Amtrak was not tracked in the dataset\n",
    "services.drop(services[services['type'] == 'Amtrak'].index, inplace=True)\n",
    "services.astype({'date' : 'datetime64',\n",
    "                'train_id' : 'category',\n",
    "                'stop_sequence' : 'float16',\n",
    "                'from' : 'category',\n",
    "                'from_id': 'category',\n",
    "                'to' : 'category',\n",
    "                'to_id': 'category',\n",
    "                'scheduled_time' : 'datetime64',\n",
    "                'actual_time' : 'datetime64',\n",
    "                'delay_minutes' : 'float16',\n",
    "                'line' : 'category',\n",
    "                'type' : 'category'})\n",
    "                \n",
    "# create new dataframe with data broken down by line\n",
    "njt_lines=services['line'].unique()\n",
    "max_delays = pd.Series(helper.get_max_delay(services,njt_lines)).round(3)\n",
    "avg_delays = pd.Series(helper.get_avg_delay(services,njt_lines)).round(3)\n",
    "\n",
    "performance_by_line = pd.DataFrame({'Longest Delay (minutes)': max_delays.values,\n",
    "                                   'Average Delay (minutes)': avg_delays.values},\n",
    "                                    index=njt_lines)\n",
    "\n",
    "performance_by_line.astype({'Longest Delay (minutes)' :'float16',\n",
    "                            'Average Delay (minutes)' :'float16'})\n",
    "\n",
    "print(max_delays)\n",
    "performance_by_line.dtypes\n",
    "performance_by_line"
   ]
  },
  {
   "attachments": {},
   "cell_type": "markdown",
   "metadata": {},
   "source": [
    "Visualization of On-Time Performance by Rail Line\n",
    "\n",
    "    notes: Princeton Shuttle is outlier considering it's short trip distance"
   ]
  },
  {
   "cell_type": "code",
   "execution_count": 17,
   "metadata": {},
   "outputs": [
    {
     "data": {
      "text/plain": [
       "<AxesSubplot: >"
      ]
     },
     "execution_count": 17,
     "metadata": {},
     "output_type": "execute_result"
    },
    {
     "data": {
      "image/png": "[encoded data removed]",
      "text/plain": [
       "<Figure size 640x480 with 1 Axes>"
      ]
     },
     "metadata": {},
     "output_type": "display_data"
    }
   ],
   "source": [
    "ax = performance_by_line.plot.bar()\n",
    "ax"
   ]
  }
 ],
 "metadata": {
  "kernelspec": {
   "display_name": "Python 3",
   "language": "python",
   "name": "python3"
  },
  "language_info": {
   "codemirror_mode": {
    "name": "ipython",
    "version": 3
   },
   "file_extension": ".py",
   "mimetype": "text/x-python",
   "name": "python",
   "nbconvert_exporter": "python",
   "pygments_lexer": "ipython3",
   "version": "3.10.9"
  },
  "orig_nbformat": 4,
  "vscode": {
   "interpreter": {
    "hash": "250b70949b6eb4b48e36940509b8103844f201ae3647754aee77af257d58d6ce"
   }
  }
 },
 "nbformat": 4,
 "nbformat_minor": 2
}
