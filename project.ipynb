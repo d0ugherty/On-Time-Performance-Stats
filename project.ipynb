{
 "cells": [
  {
   "attachments": {},
   "cell_type": "markdown",
   "metadata": {},
   "source": [
    "Thomas Dougherty\n",
    "\n",
    "Probability and Statistics for Computer Science\n",
    "\n",
    "\n",
    "### Analysis of the On-Time Performance (OTP) of New Jersey Transit Commuter Rail<br>\n",
    "On-time performance refers to the level of success of a service adhering to its schedule. In this example I'll be exploring NJT commuter rail from March 2018 to March 2020. On-time performance data can be used for schedule planning, passenger information systems, and comparison to weather data. \n",
    "    "
   ]
  },
  {
   "attachments": {},
   "cell_type": "markdown",
   "metadata": {},
   "source": [
    " March 2018"
   ]
  },
  {
   "cell_type": "code",
   "execution_count": null,
   "metadata": {},
   "outputs": [],
   "source": [
    "import os\n",
    "import numpy as np\n",
    "import pandas as pd\n",
    "import matplotlib as mpl\n",
    "import matplotlib.pyplot as plt\n",
    "from helper_functions import *\n",
    "\n",
    "#read CSV for March 2018\n",
    "services = pd.read_csv('data\\\\2018_03.csv')\n",
    "services = helper.format_services(services)\n",
    "helper.combine_csvs('data\\\\')\n",
    "\n",
    "weather = pd.read_csv('data\\\\weather.csv')\n",
    "march_weather = helper.format_weather(weather,'March')\n",
    "march_weather.head(10)\n",
    "#services.head(10)"
   ]
  },
  {
   "cell_type": "code",
   "execution_count": null,
   "metadata": {},
   "outputs": [],
   "source": [
    " #create new dataframe with data broken down by line\n",
    "# function to create df. figure out how to import pandas into helper file???\n",
    "\n",
    "njt_lines=services['line'].unique()\n",
    "max_delays = pd.Series(helper.get_max_delay(services,njt_lines)).round(3)\n",
    "avg_delays = pd.Series(helper.get_avg_delay(services,njt_lines)).round(3)\n",
    "dates = pd.Series(helper.get_delay_date(services,njt_lines))\n",
    "train_ids = pd.Series(helper.get_train_ids(services,njt_lines))\n",
    "\n",
    "performance_by_line_march = helper.create_new_dataframe(njt_lines, max_delays, avg_delays, dates)\n",
    "\n",
    "\n",
    "performance_by_line_march"
   ]
  },
  {
   "attachments": {},
   "cell_type": "markdown",
   "metadata": {},
   "source": [
    "### November 2018:"
   ]
  },
  {
   "cell_type": "code",
   "execution_count": null,
   "metadata": {},
   "outputs": [],
   "source": [
    "#read CSV for March 2018\n",
    "services_nov = pd.read_csv('data\\\\2018_11.csv')\n",
    "#status column is not needed so that will be dropped\n",
    "services_nov = helper.format_services(services_nov)\n",
    "services_nov.dtypes\n",
    "services_nov\n",
    "\n",
    "njt_lines=services_nov['line'].unique()\n",
    "max_delays = pd.Series(helper.get_max_delay(services_nov,njt_lines)).round(3)\n",
    "avg_delays = pd.Series(helper.get_avg_delay(services_nov,njt_lines)).round(3)\n",
    "dates = pd.Series(helper.get_delay_date(services_nov,njt_lines))\n",
    "train_ids = pd.Series(helper.get_train_ids(services_nov,njt_lines))\n",
    "\n",
    "performance_by_line_nov = helper.create_new_dataframe(njt_lines, max_delays, avg_delays, dates)\n",
    "\n",
    "performance_by_line_nov"
   ]
  },
  {
   "cell_type": "code",
   "execution_count": null,
   "metadata": {},
   "outputs": [],
   "source": [
    "######### weather data \n",
    "####\n",
    "###\n",
    "##\n",
    "\n",
    "nov_weather = helper.format_weather(weather,'November')\n",
    "\n",
    "mode_date = performance_by_line_nov['Date of Longest Delay'].mode()\n",
    "\n",
    "mode_date = mode_date.reset_index(drop=True)\n",
    "\n",
    "print(pd.to_datetime(mode_date))\n",
    "\n",
    "print(mode_date)\n",
    "#nov_weather.dtypes\n",
    "nov_weather.loc[nov_weather['DATE'] == mode_date]\n",
    "nov_weather.head(10)\n",
    "\n"
   ]
  }
 ],
 "metadata": {
  "kernelspec": {
   "display_name": "Python 3",
   "language": "python",
   "name": "python3"
  },
  "language_info": {
   "codemirror_mode": {
    "name": "ipython",
    "version": 3
   },
   "file_extension": ".py",
   "mimetype": "text/x-python",
   "name": "python",
   "nbconvert_exporter": "python",
   "pygments_lexer": "ipython3",
   "version": "3.10.9"
  },
  "orig_nbformat": 4,
  "vscode": {
   "interpreter": {
    "hash": "250b70949b6eb4b48e36940509b8103844f201ae3647754aee77af257d58d6ce"
   }
  }
 },
 "nbformat": 4,
 "nbformat_minor": 2
}
