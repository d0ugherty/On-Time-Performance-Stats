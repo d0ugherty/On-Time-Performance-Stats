{
 "cells": [
  {
   "attachments": {},
   "cell_type": "markdown",
   "metadata": {},
   "source": [
    "Thomas Dougherty\n",
    "\n",
    "Probability and Statistics for Computer Science\n",
    "\n",
    "\n",
    "### Analysis of the On-Time Performance (OTP) of New Jersey Transit Commuter Rail<br>\n",
    "On-time performance refers to the level of success of a service adhering to its schedule. In this example I'll be exploring NJT commuter rail from March 2018 to March 2020. On-time performance data can be used for schedule planning, passenger information systems, and comparison to weather data. \n",
    "    "
   ]
  },
  {
   "attachments": {},
   "cell_type": "markdown",
   "metadata": {},
   "source": [
    "#### Data cleanup"
   ]
  },
  {
   "cell_type": "code",
   "execution_count": null,
   "metadata": {},
   "outputs": [],
   "source": [
    "\n",
    "import numpy as np\n",
    "import pandas as pd\n",
    "import matplotlib as mpl\n",
    "import matplotlib.pyplot as plt\n",
    "from datetime import datetime\n",
    "from helper_functions import *\n",
    "\n",
    "#all_services = helper.combine_csvs(\"data\\\\services\\\\\")\n",
    "print(\"Reading CSV....\")\n",
    "all_services = pd.read_csv('data\\\\all_services.csv')\n",
    "all_services = helper.format_services(all_services)\n",
    "all_services.head(10)"
   ]
  },
  {
   "attachments": {},
   "cell_type": "markdown",
   "metadata": {},
   "source": [
    "## Visualization of On Time Performance\n",
    "New Jersey Transit defines \"On Time\" as a variation of service within 6 minutes of the published schedule. A function iterates through the data frame and classifies each arrival into one of four categories by keeping a count in a size 4 array. "
   ]
  },
  {
   "attachments": {},
   "cell_type": "markdown",
   "metadata": {},
   "source": [
    "#### All Services by Year"
   ]
  },
  {
   "cell_type": "code",
   "execution_count": null,
   "metadata": {},
   "outputs": [],
   "source": [
    "#To Do: automate this\n",
    "# Get the data for each subplot\n",
    "data_2018 = helper.categorize_lateness(all_services[(all_services['date'].dt.year == 2018)])\n",
    "data_2019 = helper.categorize_lateness(all_services[(all_services['date'].dt.year == 2019)])\n",
    "data_2020 = helper.categorize_lateness(all_services[(all_services['date'].dt.year == 2020)])\n",
    "late_labels = ['On Time', '6-10 Minutes Late', '10-15 Minutes Late', 'More Than 15 Minutes Late']\n",
    "late_colors = ['green', 'yellow', 'orange', 'red']\n",
    "\n",
    "fig, (ax1, ax2, ax3) = plt.subplots(1,3)\n",
    "\n",
    "ax1.pie(data_2018, colors=late_colors, radius = 1.2, autopct = \"%0.2f%%\", startangle=270)\n",
    "ax1.title.set_text('On Time Performance in 2018')\n",
    "ax2.pie(data_2019, colors=late_colors, radius = 1.2, autopct = \"%0.2f%%\", startangle=270)\n",
    "ax2.title.set_text('On Time Performance in 2019')\n",
    "ax3.pie(data_2020, colors=late_colors, radius = 1.2, autopct = \"%0.2f%%\", startangle=270)\n",
    "ax3.title.set_text('On Time Performance in 2020*')\n",
    "plt.text(1.0, -1.3, \"*Data collection ended in May 2020\", fontsize=10)\n",
    "fig.set_figwidth(12)\n",
    "plt.legend(bbox_to_anchor = (1.0, 1.0), labels = late_labels)\n",
    "plt.show()"
   ]
  },
  {
   "attachments": {},
   "cell_type": "markdown",
   "metadata": {},
   "source": [
    "#### All Services by Season\n",
    "\n",
    "Using the date column, arrivals will be divided into four primary categories. The arrivals will be sub-categorized by how many minutes late then plotted onto a pie chart to show on time performance in the seasons of the year"
   ]
  },
  {
   "cell_type": "code",
   "execution_count": null,
   "metadata": {},
   "outputs": [],
   "source": [
    "# TO DO: Automate this\n",
    "data_fall = helper.categorize_lateness(all_services[(all_services['date'].dt.month >= 9) & (all_services['date'].dt.month <= 12)])\n",
    "# could not get a 'true' boolean value for the winter months and had to broken up into two separate dfs\n",
    "df1 = all_services[(all_services['date'].dt.month <= 3)]\n",
    "df2 = all_services[(all_services['date'].dt.month >= 12)]\n",
    "result = pd.concat([df1,df2])\n",
    "data_winter = helper.categorize_lateness(result) \n",
    "data_spring = helper.categorize_lateness(all_services[(all_services['date'].dt.month >= 3) & (all_services['date'].dt.month <=6)])\n",
    "data_summer = helper.categorize_lateness(all_services[(all_services['date'].dt.month >= 6) & (all_services['date'].dt.month <=9)])\n",
    "\n",
    "fig, (ax1, ax2, ax3, ax4) = plt.subplots(1,4)\n",
    "\n",
    "# and this\n",
    "ax1.pie(data_fall, colors=late_colors, radius = 1.2, autopct = \"%0.2f%%\", startangle=270)\n",
    "ax1.title.set_text('September - December')\n",
    "ax2.pie(data_winter, colors=late_colors, radius = 1.2, autopct = \"%0.2f%%\", startangle=270)\n",
    "ax2.title.set_text('December - March')\n",
    "ax3.pie(data_spring, colors=late_colors, radius = 1.2, autopct = \"%0.2f%%\", startangle=270)\n",
    "ax3.title.set_text('March - June')\n",
    "ax4.pie(data_summer, colors=late_colors, radius = 1.2, autopct = \"%0.2f%%\", startangle=270)\n",
    "ax4.title.set_text('June - September')\n",
    "\n",
    "fig.set_figwidth(15)\n",
    "fig.set_figheight(5)\n",
    "\n",
    "plt.legend(bbox_to_anchor = (1.0, 1.0), labels = late_labels)\n",
    "plt.show()"
   ]
  },
  {
   "attachments": {},
   "cell_type": "markdown",
   "metadata": {},
   "source": [
    "In Autumn, tree leaves tend to fall on the rails. As they're crushed by the weight of the trains, the wheels of the train and the rails they ride on become coated in a low-friction residue. he buildup is incremental with each passing train. So unlike snow, the buildup cannot be prevented by the regular running of trains. These condition makes it difficult for trains to accelerate, decelerate, and maintain safe speeds leading to delays and other service disruptions so we can expect a lower On Time Performance during the autumn months. "
   ]
  },
  {
   "attachments": {},
   "cell_type": "markdown",
   "metadata": {},
   "source": [
    "##### OTP by Line <br>\n"
   ]
  },
  {
   "cell_type": "code",
   "execution_count": null,
   "metadata": {},
   "outputs": [],
   "source": [
    "njt_lines = all_services['line'].unique()\n",
    "\n",
    "line_labels = ['Northeast Corridor', 'North Jersey Coast', 'Main Line', 'Morristown Line', 'Gladstone Branch',\n",
    "               'Raritan Valley', 'Bergen County Line', 'Atlantic City Line', 'Montclair-Boonton',\n",
    "               'Princeton Shuttle', 'Pascack Valley']\n",
    "\n",
    "#otp_by_line_2018 = helper.get_otp_data(all_services,'line', njt_lines, 2018)\n",
    "#otp_by_line_2019 = helper.get_otp_data(all_services,'line', njt_lines, 2019)\n",
    "#helper.chart_subplots(otp_by_line_2018,line_labels, late_labels, late_colors, \"On Time Performance In 2018\")\n",
    "#helper.chart_subplots(otp_by_line_2019,line_labels, late_labels, late_colors, \"On Time Performance In 2019\")\n"
   ]
  },
  {
   "attachments": {},
   "cell_type": "markdown",
   "metadata": {},
   "source": [
    "## Reporting to Final Destination On Time\n",
    "To Do: Systemwide, By Line, New York Penn Station <br>\n",
    "bar charts?"
   ]
  },
  {
   "cell_type": "code",
   "execution_count": 35,
   "metadata": {},
   "outputs": [
    {
     "name": "stderr",
     "output_type": "stream",
     "text": [
      "C:\\Users\\tdoug\\AppData\\Local\\Temp\\ipykernel_37368\\3205516489.py:10: SettingWithCopyWarning: \n",
      "A value is trying to be set on a copy of a slice from a DataFrame\n",
      "\n",
      "See the caveats in the documentation: https://pandas.pydata.org/pandas-docs/stable/user_guide/indexing.html#returning-a-view-versus-a-copy\n",
      "  am_peak_nyp.drop(am_peak_nyp[am_peak_nyp['date'].dt.weekday > 4].index, inplace=True)\n",
      "C:\\Users\\tdoug\\AppData\\Local\\Temp\\ipykernel_37368\\3205516489.py:12: SettingWithCopyWarning: \n",
      "A value is trying to be set on a copy of a slice from a DataFrame\n",
      "\n",
      "See the caveats in the documentation: https://pandas.pydata.org/pandas-docs/stable/user_guide/indexing.html#returning-a-view-versus-a-copy\n",
      "  pm_peak_nyp.drop(pm_peak_nyp[pm_peak_nyp['date'].dt.weekday > 4].index, inplace=True)\n"
     ]
    },
    {
     "name": "stdout",
     "output_type": "stream",
     "text": [
      "81.16\n",
      "73.56\n",
      "86.49\n"
     ]
    }
   ],
   "source": [
    "trains_to_nyp = all_services[(all_services['to'] == 'New York Penn Station')]\n",
    "trains_from_nyp = all_services[(all_services['from'] == 'New York Penn Station')]\n",
    "trains_to_nyp.dtypes\n",
    "am_start = pd.to_datetime(\"06:00:00\")\n",
    "am_end = pd.to_datetime(\"09:30:00\")\n",
    "pm_start = pd.to_datetime(\"16:00:00\")\n",
    "pm_end = pd.to_datetime(\"19:00:00\")\n",
    "# AM-PM Weekday Rush Hours\n",
    "am_peak_nyp = trains_to_nyp[(trains_to_nyp['scheduled_time'].dt.time >= am_start.time()) & (trains_to_nyp['scheduled_time'].dt.time <= am_end.time())]\n",
    "am_peak_nyp.drop(am_peak_nyp[am_peak_nyp['date'].dt.weekday > 4].index, inplace=True)\n",
    "pm_peak_nyp = trains_from_nyp[(trains_from_nyp['scheduled_time'].dt.time >= pm_start.time()) & (trains_from_nyp['scheduled_time'].dt.time <= pm_end.time())]\n",
    "pm_peak_nyp.drop(pm_peak_nyp[pm_peak_nyp['date'].dt.weekday > 4].index, inplace=True)\n",
    "\n",
    "#Off Peak\n",
    "off_peak1 = trains_to_nyp[(trains_to_nyp['scheduled_time'].dt.time < am_start.time())]\n",
    "off_peak2 = trains_to_nyp[(trains_to_nyp['scheduled_time'].dt.time > am_end.time()) & (trains_to_nyp['scheduled_time'].dt.time < pm_start.time())]\n",
    "off_peak3 = trains_to_nyp[(trains_to_nyp['scheduled_time'].dt.time > pm_end.time())]\n",
    "off_peak_nyp = pd.concat([off_peak1, off_peak2])\n",
    "off_peak_nyp = pd.concat([off_peak3, off_peak_nyp])\n",
    "off_peak_nyp.drop(off_peak_nyp[off_peak_nyp['date'].dt.weekday > 4].index, inplace=True)\n",
    "\n",
    "lines_to_nyp = trains_to_nyp['line'].unique()\n",
    "categories = ['AM Peak', 'PM Peak', 'Weekday', 'Weekend']\n",
    "\n",
    "\n",
    "print(helper.calculate_otp(am_peak_nyp[(am_peak_nyp['date'].dt.month == 10) & (am_peak_nyp['date'].dt.year == 2019)]))\n",
    "print(helper.calculate_otp(pm_peak_nyp[(pm_peak_nyp['date'].dt.month == 10) & (pm_peak_nyp['date'].dt.year == 2019)]))\n",
    "print(helper.calculate_otp(off_peak_nyp[(off_peak_nyp['date'].dt.month == 10) & (off_peak_nyp['date'].dt.year == 2019)]))\n"
   ]
  }
 ],
 "metadata": {
  "kernelspec": {
   "display_name": "Python 3",
   "language": "python",
   "name": "python3"
  },
  "language_info": {
   "codemirror_mode": {
    "name": "ipython",
    "version": 3
   },
   "file_extension": ".py",
   "mimetype": "text/x-python",
   "name": "python",
   "nbconvert_exporter": "python",
   "pygments_lexer": "ipython3",
   "version": "3.10.9"
  },
  "orig_nbformat": 4,
  "vscode": {
   "interpreter": {
    "hash": "250b70949b6eb4b48e36940509b8103844f201ae3647754aee77af257d58d6ce"
   }
  }
 },
 "nbformat": 4,
 "nbformat_minor": 2
}
